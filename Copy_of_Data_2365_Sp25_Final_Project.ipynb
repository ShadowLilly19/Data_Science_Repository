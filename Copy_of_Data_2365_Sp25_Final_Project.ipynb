{
  "cells": [
    {
      "cell_type": "markdown",
      "metadata": {
        "id": "view-in-github",
        "colab_type": "text"
      },
      "source": [
        "<a href=\"https://colab.research.google.com/github/ShadowLilly19/Data_Science_Repository/blob/main/Copy_of_Data_2365_Sp25_Final_Project.ipynb\" target=\"_parent\"><img src=\"https://colab.research.google.com/assets/colab-badge.svg\" alt=\"Open In Colab\"/></a>"
      ]
    },
    {
      "cell_type": "markdown",
      "source": [
        "# Capstone Project: 911 Emergency Call Data Analysis\n",
        "\n",
        "In this project, you'll explore and analyze 911 call data from [Kaggle](https://www.kaggle.com/mchirico/montcoalert). This dataset contains records of emergency calls and includes various details that you'll use to uncover patterns, trends, and insights.\n",
        "\n",
        "## Dataset Features\n",
        "\n",
        "- **lat**: Latitude (string)\n",
        "- **lng**: Longitude (string)\n",
        "- **desc**: Description of the emergency call (string)\n",
        "- **zip**: Zip code (string)\n",
        "- **title**: Title of the call (string)\n",
        "- **timeStamp**: Date and time in the format `YYYY-MM-DD HH:MM:SS` (string)\n",
        "- **twp**: Township where the call was made (string)\n",
        "- **addr**: Address of the call (string)\n",
        "- **e**: Dummy variable (always 1)\n",
        "\n",
        "Follow the instructions and answer the **bolded questions** throughout the notebook using your Python and data analysis skills. Your goal is to clean, explore, and visualize the data to extract meaningful insights.\n"
      ],
      "metadata": {
        "id": "RsnpMGY3FSeM"
      }
    },
    {
      "cell_type": "markdown",
      "metadata": {
        "id": "m4-86Qkp5FIU"
      },
      "source": [
        "## Data and Setup"
      ]
    },
    {
      "cell_type": "markdown",
      "metadata": {
        "id": "q68zI0KN5FIU"
      },
      "source": [
        "**Import numpy and pandas**"
      ]
    },
    {
      "cell_type": "code",
      "execution_count": null,
      "metadata": {
        "collapsed": true,
        "id": "5RaFktli5FIU"
      },
      "outputs": [],
      "source": [
        "import numpy as np\n",
        "import pandas as pd"
      ]
    },
    {
      "cell_type": "markdown",
      "metadata": {
        "id": "wWkWU06u5FIU"
      },
      "source": [
        "**Import visualization libraries, matplotlib and seaborn**"
      ]
    },
    {
      "cell_type": "code",
      "execution_count": null,
      "metadata": {
        "id": "1X5AIWQG5FIV"
      },
      "outputs": [],
      "source": [
        "import matplotlib.pyplot as plt\n",
        "import seaborn as sns"
      ]
    },
    {
      "cell_type": "markdown",
      "metadata": {
        "id": "FZ0_MqYm5FIV"
      },
      "source": [
        "**Read in the csv file using the following raw link and save as dataframe called df**  \n",
        "\n",
        "https://raw.githubusercontent.com/m-rafiul-islam/uiw-ds/main/911.csv"
      ]
    },
    {
      "cell_type": "code",
      "source": [
        "import requests\n",
        "from bs4 import BeautifulSoup as bs\n",
        "import pandas as pd"
      ],
      "metadata": {
        "id": "DeMvqB-9VDCW"
      },
      "execution_count": null,
      "outputs": []
    },
    {
      "cell_type": "code",
      "source": [
        "url  = 'https://raw.githubusercontent.com/m-rafiul-islam/uiw-ds/main/911.csv'\n",
        "df= pd.read_csv(url)\n",
        "df"
      ],
      "metadata": {
        "id": "VY5aRaM2Dl00",
        "colab": {
          "base_uri": "https://localhost:8080/",
          "height": 1000
        },
        "collapsed": true,
        "outputId": "7377e040-d426-4a11-bea8-aa0fa71e01e7"
      },
      "execution_count": 37,
      "outputs": [
        {
          "output_type": "execute_result",
          "data": {
            "text/plain": [
              "             lat        lng  \\\n",
              "0      40.297876 -75.581294   \n",
              "1      40.258061 -75.264680   \n",
              "2      40.121182 -75.351975   \n",
              "3      40.116153 -75.343513   \n",
              "4      40.251492 -75.603350   \n",
              "...          ...        ...   \n",
              "99487  40.132869 -75.333515   \n",
              "99488  40.006974 -75.289080   \n",
              "99489  40.115429 -75.334679   \n",
              "99490  40.186431 -75.192555   \n",
              "99491  40.207055 -75.317952   \n",
              "\n",
              "                                                    desc      zip  \\\n",
              "0      REINDEER CT & DEAD END;  NEW HANOVER; Station ...  19525.0   \n",
              "1      BRIAR PATH & WHITEMARSH LN;  HATFIELD TOWNSHIP...  19446.0   \n",
              "2      HAWS AVE; NORRISTOWN; 2015-12-10 @ 14:39:21-St...  19401.0   \n",
              "3      AIRY ST & SWEDE ST;  NORRISTOWN; Station 308A;...  19401.0   \n",
              "4      CHERRYWOOD CT & DEAD END;  LOWER POTTSGROVE; S...      NaN   \n",
              "...                                                  ...      ...   \n",
              "99487  MARKLEY ST & W LOGAN ST; NORRISTOWN; 2016-08-2...  19401.0   \n",
              "99488  LANCASTER AVE & RITTENHOUSE PL; LOWER MERION; ...  19003.0   \n",
              "99489  CHESTNUT ST & WALNUT ST;  NORRISTOWN; Station ...  19401.0   \n",
              "99490  WELSH RD & WEBSTER LN;  HORSHAM; Station 352; ...  19002.0   \n",
              "99491  MORRIS RD & S BROAD ST; UPPER GWYNEDD; 2016-08...  19446.0   \n",
              "\n",
              "                             title            timeStamp                twp  \\\n",
              "0           EMS: BACK PAINS/INJURY  2015-12-10 17:40:00        NEW HANOVER   \n",
              "1          EMS: DIABETIC EMERGENCY  2015-12-10 17:40:00  HATFIELD TOWNSHIP   \n",
              "2              Fire: GAS-ODOR/LEAK  2015-12-10 17:40:00         NORRISTOWN   \n",
              "3           EMS: CARDIAC EMERGENCY  2015-12-10 17:40:01         NORRISTOWN   \n",
              "4                   EMS: DIZZINESS  2015-12-10 17:40:01   LOWER POTTSGROVE   \n",
              "...                            ...                  ...                ...   \n",
              "99487  Traffic: VEHICLE ACCIDENT -  2016-08-24 11:06:00         NORRISTOWN   \n",
              "99488  Traffic: VEHICLE ACCIDENT -  2016-08-24 11:07:02       LOWER MERION   \n",
              "99489             EMS: FALL VICTIM  2016-08-24 11:12:00         NORRISTOWN   \n",
              "99490         EMS: NAUSEA/VOMITING  2016-08-24 11:17:01            HORSHAM   \n",
              "99491  Traffic: VEHICLE ACCIDENT -  2016-08-24 11:17:02      UPPER GWYNEDD   \n",
              "\n",
              "                                 addr  e  \n",
              "0              REINDEER CT & DEAD END  1  \n",
              "1          BRIAR PATH & WHITEMARSH LN  1  \n",
              "2                            HAWS AVE  1  \n",
              "3                  AIRY ST & SWEDE ST  1  \n",
              "4            CHERRYWOOD CT & DEAD END  1  \n",
              "...                               ... ..  \n",
              "99487         MARKLEY ST & W LOGAN ST  1  \n",
              "99488  LANCASTER AVE & RITTENHOUSE PL  1  \n",
              "99489         CHESTNUT ST & WALNUT ST  1  \n",
              "99490           WELSH RD & WEBSTER LN  1  \n",
              "99491          MORRIS RD & S BROAD ST  1  \n",
              "\n",
              "[99492 rows x 9 columns]"
            ],
            "text/html": [
              "\n",
              "  <div id=\"df-aef5f172-b3a7-4049-8ef6-e601b2b94e0c\" class=\"colab-df-container\">\n",
              "    <div>\n",
              "<style scoped>\n",
              "    .dataframe tbody tr th:only-of-type {\n",
              "        vertical-align: middle;\n",
              "    }\n",
              "\n",
              "    .dataframe tbody tr th {\n",
              "        vertical-align: top;\n",
              "    }\n",
              "\n",
              "    .dataframe thead th {\n",
              "        text-align: right;\n",
              "    }\n",
              "</style>\n",
              "<table border=\"1\" class=\"dataframe\">\n",
              "  <thead>\n",
              "    <tr style=\"text-align: right;\">\n",
              "      <th></th>\n",
              "      <th>lat</th>\n",
              "      <th>lng</th>\n",
              "      <th>desc</th>\n",
              "      <th>zip</th>\n",
              "      <th>title</th>\n",
              "      <th>timeStamp</th>\n",
              "      <th>twp</th>\n",
              "      <th>addr</th>\n",
              "      <th>e</th>\n",
              "    </tr>\n",
              "  </thead>\n",
              "  <tbody>\n",
              "    <tr>\n",
              "      <th>0</th>\n",
              "      <td>40.297876</td>\n",
              "      <td>-75.581294</td>\n",
              "      <td>REINDEER CT &amp; DEAD END;  NEW HANOVER; Station ...</td>\n",
              "      <td>19525.0</td>\n",
              "      <td>EMS: BACK PAINS/INJURY</td>\n",
              "      <td>2015-12-10 17:40:00</td>\n",
              "      <td>NEW HANOVER</td>\n",
              "      <td>REINDEER CT &amp; DEAD END</td>\n",
              "      <td>1</td>\n",
              "    </tr>\n",
              "    <tr>\n",
              "      <th>1</th>\n",
              "      <td>40.258061</td>\n",
              "      <td>-75.264680</td>\n",
              "      <td>BRIAR PATH &amp; WHITEMARSH LN;  HATFIELD TOWNSHIP...</td>\n",
              "      <td>19446.0</td>\n",
              "      <td>EMS: DIABETIC EMERGENCY</td>\n",
              "      <td>2015-12-10 17:40:00</td>\n",
              "      <td>HATFIELD TOWNSHIP</td>\n",
              "      <td>BRIAR PATH &amp; WHITEMARSH LN</td>\n",
              "      <td>1</td>\n",
              "    </tr>\n",
              "    <tr>\n",
              "      <th>2</th>\n",
              "      <td>40.121182</td>\n",
              "      <td>-75.351975</td>\n",
              "      <td>HAWS AVE; NORRISTOWN; 2015-12-10 @ 14:39:21-St...</td>\n",
              "      <td>19401.0</td>\n",
              "      <td>Fire: GAS-ODOR/LEAK</td>\n",
              "      <td>2015-12-10 17:40:00</td>\n",
              "      <td>NORRISTOWN</td>\n",
              "      <td>HAWS AVE</td>\n",
              "      <td>1</td>\n",
              "    </tr>\n",
              "    <tr>\n",
              "      <th>3</th>\n",
              "      <td>40.116153</td>\n",
              "      <td>-75.343513</td>\n",
              "      <td>AIRY ST &amp; SWEDE ST;  NORRISTOWN; Station 308A;...</td>\n",
              "      <td>19401.0</td>\n",
              "      <td>EMS: CARDIAC EMERGENCY</td>\n",
              "      <td>2015-12-10 17:40:01</td>\n",
              "      <td>NORRISTOWN</td>\n",
              "      <td>AIRY ST &amp; SWEDE ST</td>\n",
              "      <td>1</td>\n",
              "    </tr>\n",
              "    <tr>\n",
              "      <th>4</th>\n",
              "      <td>40.251492</td>\n",
              "      <td>-75.603350</td>\n",
              "      <td>CHERRYWOOD CT &amp; DEAD END;  LOWER POTTSGROVE; S...</td>\n",
              "      <td>NaN</td>\n",
              "      <td>EMS: DIZZINESS</td>\n",
              "      <td>2015-12-10 17:40:01</td>\n",
              "      <td>LOWER POTTSGROVE</td>\n",
              "      <td>CHERRYWOOD CT &amp; DEAD END</td>\n",
              "      <td>1</td>\n",
              "    </tr>\n",
              "    <tr>\n",
              "      <th>...</th>\n",
              "      <td>...</td>\n",
              "      <td>...</td>\n",
              "      <td>...</td>\n",
              "      <td>...</td>\n",
              "      <td>...</td>\n",
              "      <td>...</td>\n",
              "      <td>...</td>\n",
              "      <td>...</td>\n",
              "      <td>...</td>\n",
              "    </tr>\n",
              "    <tr>\n",
              "      <th>99487</th>\n",
              "      <td>40.132869</td>\n",
              "      <td>-75.333515</td>\n",
              "      <td>MARKLEY ST &amp; W LOGAN ST; NORRISTOWN; 2016-08-2...</td>\n",
              "      <td>19401.0</td>\n",
              "      <td>Traffic: VEHICLE ACCIDENT -</td>\n",
              "      <td>2016-08-24 11:06:00</td>\n",
              "      <td>NORRISTOWN</td>\n",
              "      <td>MARKLEY ST &amp; W LOGAN ST</td>\n",
              "      <td>1</td>\n",
              "    </tr>\n",
              "    <tr>\n",
              "      <th>99488</th>\n",
              "      <td>40.006974</td>\n",
              "      <td>-75.289080</td>\n",
              "      <td>LANCASTER AVE &amp; RITTENHOUSE PL; LOWER MERION; ...</td>\n",
              "      <td>19003.0</td>\n",
              "      <td>Traffic: VEHICLE ACCIDENT -</td>\n",
              "      <td>2016-08-24 11:07:02</td>\n",
              "      <td>LOWER MERION</td>\n",
              "      <td>LANCASTER AVE &amp; RITTENHOUSE PL</td>\n",
              "      <td>1</td>\n",
              "    </tr>\n",
              "    <tr>\n",
              "      <th>99489</th>\n",
              "      <td>40.115429</td>\n",
              "      <td>-75.334679</td>\n",
              "      <td>CHESTNUT ST &amp; WALNUT ST;  NORRISTOWN; Station ...</td>\n",
              "      <td>19401.0</td>\n",
              "      <td>EMS: FALL VICTIM</td>\n",
              "      <td>2016-08-24 11:12:00</td>\n",
              "      <td>NORRISTOWN</td>\n",
              "      <td>CHESTNUT ST &amp; WALNUT ST</td>\n",
              "      <td>1</td>\n",
              "    </tr>\n",
              "    <tr>\n",
              "      <th>99490</th>\n",
              "      <td>40.186431</td>\n",
              "      <td>-75.192555</td>\n",
              "      <td>WELSH RD &amp; WEBSTER LN;  HORSHAM; Station 352; ...</td>\n",
              "      <td>19002.0</td>\n",
              "      <td>EMS: NAUSEA/VOMITING</td>\n",
              "      <td>2016-08-24 11:17:01</td>\n",
              "      <td>HORSHAM</td>\n",
              "      <td>WELSH RD &amp; WEBSTER LN</td>\n",
              "      <td>1</td>\n",
              "    </tr>\n",
              "    <tr>\n",
              "      <th>99491</th>\n",
              "      <td>40.207055</td>\n",
              "      <td>-75.317952</td>\n",
              "      <td>MORRIS RD &amp; S BROAD ST; UPPER GWYNEDD; 2016-08...</td>\n",
              "      <td>19446.0</td>\n",
              "      <td>Traffic: VEHICLE ACCIDENT -</td>\n",
              "      <td>2016-08-24 11:17:02</td>\n",
              "      <td>UPPER GWYNEDD</td>\n",
              "      <td>MORRIS RD &amp; S BROAD ST</td>\n",
              "      <td>1</td>\n",
              "    </tr>\n",
              "  </tbody>\n",
              "</table>\n",
              "<p>99492 rows × 9 columns</p>\n",
              "</div>\n",
              "    <div class=\"colab-df-buttons\">\n",
              "\n",
              "  <div class=\"colab-df-container\">\n",
              "    <button class=\"colab-df-convert\" onclick=\"convertToInteractive('df-aef5f172-b3a7-4049-8ef6-e601b2b94e0c')\"\n",
              "            title=\"Convert this dataframe to an interactive table.\"\n",
              "            style=\"display:none;\">\n",
              "\n",
              "  <svg xmlns=\"http://www.w3.org/2000/svg\" height=\"24px\" viewBox=\"0 -960 960 960\">\n",
              "    <path d=\"M120-120v-720h720v720H120Zm60-500h600v-160H180v160Zm220 220h160v-160H400v160Zm0 220h160v-160H400v160ZM180-400h160v-160H180v160Zm440 0h160v-160H620v160ZM180-180h160v-160H180v160Zm440 0h160v-160H620v160Z\"/>\n",
              "  </svg>\n",
              "    </button>\n",
              "\n",
              "  <style>\n",
              "    .colab-df-container {\n",
              "      display:flex;\n",
              "      gap: 12px;\n",
              "    }\n",
              "\n",
              "    .colab-df-convert {\n",
              "      background-color: #E8F0FE;\n",
              "      border: none;\n",
              "      border-radius: 50%;\n",
              "      cursor: pointer;\n",
              "      display: none;\n",
              "      fill: #1967D2;\n",
              "      height: 32px;\n",
              "      padding: 0 0 0 0;\n",
              "      width: 32px;\n",
              "    }\n",
              "\n",
              "    .colab-df-convert:hover {\n",
              "      background-color: #E2EBFA;\n",
              "      box-shadow: 0px 1px 2px rgba(60, 64, 67, 0.3), 0px 1px 3px 1px rgba(60, 64, 67, 0.15);\n",
              "      fill: #174EA6;\n",
              "    }\n",
              "\n",
              "    .colab-df-buttons div {\n",
              "      margin-bottom: 4px;\n",
              "    }\n",
              "\n",
              "    [theme=dark] .colab-df-convert {\n",
              "      background-color: #3B4455;\n",
              "      fill: #D2E3FC;\n",
              "    }\n",
              "\n",
              "    [theme=dark] .colab-df-convert:hover {\n",
              "      background-color: #434B5C;\n",
              "      box-shadow: 0px 1px 3px 1px rgba(0, 0, 0, 0.15);\n",
              "      filter: drop-shadow(0px 1px 2px rgba(0, 0, 0, 0.3));\n",
              "      fill: #FFFFFF;\n",
              "    }\n",
              "  </style>\n",
              "\n",
              "    <script>\n",
              "      const buttonEl =\n",
              "        document.querySelector('#df-aef5f172-b3a7-4049-8ef6-e601b2b94e0c button.colab-df-convert');\n",
              "      buttonEl.style.display =\n",
              "        google.colab.kernel.accessAllowed ? 'block' : 'none';\n",
              "\n",
              "      async function convertToInteractive(key) {\n",
              "        const element = document.querySelector('#df-aef5f172-b3a7-4049-8ef6-e601b2b94e0c');\n",
              "        const dataTable =\n",
              "          await google.colab.kernel.invokeFunction('convertToInteractive',\n",
              "                                                    [key], {});\n",
              "        if (!dataTable) return;\n",
              "\n",
              "        const docLinkHtml = 'Like what you see? Visit the ' +\n",
              "          '<a target=\"_blank\" href=https://colab.research.google.com/notebooks/data_table.ipynb>data table notebook</a>'\n",
              "          + ' to learn more about interactive tables.';\n",
              "        element.innerHTML = '';\n",
              "        dataTable['output_type'] = 'display_data';\n",
              "        await google.colab.output.renderOutput(dataTable, element);\n",
              "        const docLink = document.createElement('div');\n",
              "        docLink.innerHTML = docLinkHtml;\n",
              "        element.appendChild(docLink);\n",
              "      }\n",
              "    </script>\n",
              "  </div>\n",
              "\n",
              "\n",
              "    <div id=\"df-4b06a481-be8e-4c0b-a35d-2553bb191e38\">\n",
              "      <button class=\"colab-df-quickchart\" onclick=\"quickchart('df-4b06a481-be8e-4c0b-a35d-2553bb191e38')\"\n",
              "                title=\"Suggest charts\"\n",
              "                style=\"display:none;\">\n",
              "\n",
              "<svg xmlns=\"http://www.w3.org/2000/svg\" height=\"24px\"viewBox=\"0 0 24 24\"\n",
              "     width=\"24px\">\n",
              "    <g>\n",
              "        <path d=\"M19 3H5c-1.1 0-2 .9-2 2v14c0 1.1.9 2 2 2h14c1.1 0 2-.9 2-2V5c0-1.1-.9-2-2-2zM9 17H7v-7h2v7zm4 0h-2V7h2v10zm4 0h-2v-4h2v4z\"/>\n",
              "    </g>\n",
              "</svg>\n",
              "      </button>\n",
              "\n",
              "<style>\n",
              "  .colab-df-quickchart {\n",
              "      --bg-color: #E8F0FE;\n",
              "      --fill-color: #1967D2;\n",
              "      --hover-bg-color: #E2EBFA;\n",
              "      --hover-fill-color: #174EA6;\n",
              "      --disabled-fill-color: #AAA;\n",
              "      --disabled-bg-color: #DDD;\n",
              "  }\n",
              "\n",
              "  [theme=dark] .colab-df-quickchart {\n",
              "      --bg-color: #3B4455;\n",
              "      --fill-color: #D2E3FC;\n",
              "      --hover-bg-color: #434B5C;\n",
              "      --hover-fill-color: #FFFFFF;\n",
              "      --disabled-bg-color: #3B4455;\n",
              "      --disabled-fill-color: #666;\n",
              "  }\n",
              "\n",
              "  .colab-df-quickchart {\n",
              "    background-color: var(--bg-color);\n",
              "    border: none;\n",
              "    border-radius: 50%;\n",
              "    cursor: pointer;\n",
              "    display: none;\n",
              "    fill: var(--fill-color);\n",
              "    height: 32px;\n",
              "    padding: 0;\n",
              "    width: 32px;\n",
              "  }\n",
              "\n",
              "  .colab-df-quickchart:hover {\n",
              "    background-color: var(--hover-bg-color);\n",
              "    box-shadow: 0 1px 2px rgba(60, 64, 67, 0.3), 0 1px 3px 1px rgba(60, 64, 67, 0.15);\n",
              "    fill: var(--button-hover-fill-color);\n",
              "  }\n",
              "\n",
              "  .colab-df-quickchart-complete:disabled,\n",
              "  .colab-df-quickchart-complete:disabled:hover {\n",
              "    background-color: var(--disabled-bg-color);\n",
              "    fill: var(--disabled-fill-color);\n",
              "    box-shadow: none;\n",
              "  }\n",
              "\n",
              "  .colab-df-spinner {\n",
              "    border: 2px solid var(--fill-color);\n",
              "    border-color: transparent;\n",
              "    border-bottom-color: var(--fill-color);\n",
              "    animation:\n",
              "      spin 1s steps(1) infinite;\n",
              "  }\n",
              "\n",
              "  @keyframes spin {\n",
              "    0% {\n",
              "      border-color: transparent;\n",
              "      border-bottom-color: var(--fill-color);\n",
              "      border-left-color: var(--fill-color);\n",
              "    }\n",
              "    20% {\n",
              "      border-color: transparent;\n",
              "      border-left-color: var(--fill-color);\n",
              "      border-top-color: var(--fill-color);\n",
              "    }\n",
              "    30% {\n",
              "      border-color: transparent;\n",
              "      border-left-color: var(--fill-color);\n",
              "      border-top-color: var(--fill-color);\n",
              "      border-right-color: var(--fill-color);\n",
              "    }\n",
              "    40% {\n",
              "      border-color: transparent;\n",
              "      border-right-color: var(--fill-color);\n",
              "      border-top-color: var(--fill-color);\n",
              "    }\n",
              "    60% {\n",
              "      border-color: transparent;\n",
              "      border-right-color: var(--fill-color);\n",
              "    }\n",
              "    80% {\n",
              "      border-color: transparent;\n",
              "      border-right-color: var(--fill-color);\n",
              "      border-bottom-color: var(--fill-color);\n",
              "    }\n",
              "    90% {\n",
              "      border-color: transparent;\n",
              "      border-bottom-color: var(--fill-color);\n",
              "    }\n",
              "  }\n",
              "</style>\n",
              "\n",
              "      <script>\n",
              "        async function quickchart(key) {\n",
              "          const quickchartButtonEl =\n",
              "            document.querySelector('#' + key + ' button');\n",
              "          quickchartButtonEl.disabled = true;  // To prevent multiple clicks.\n",
              "          quickchartButtonEl.classList.add('colab-df-spinner');\n",
              "          try {\n",
              "            const charts = await google.colab.kernel.invokeFunction(\n",
              "                'suggestCharts', [key], {});\n",
              "          } catch (error) {\n",
              "            console.error('Error during call to suggestCharts:', error);\n",
              "          }\n",
              "          quickchartButtonEl.classList.remove('colab-df-spinner');\n",
              "          quickchartButtonEl.classList.add('colab-df-quickchart-complete');\n",
              "        }\n",
              "        (() => {\n",
              "          let quickchartButtonEl =\n",
              "            document.querySelector('#df-4b06a481-be8e-4c0b-a35d-2553bb191e38 button');\n",
              "          quickchartButtonEl.style.display =\n",
              "            google.colab.kernel.accessAllowed ? 'block' : 'none';\n",
              "        })();\n",
              "      </script>\n",
              "    </div>\n",
              "\n",
              "  <div id=\"id_be877568-2e47-4d27-8cfe-73bfb723f20e\">\n",
              "    <style>\n",
              "      .colab-df-generate {\n",
              "        background-color: #E8F0FE;\n",
              "        border: none;\n",
              "        border-radius: 50%;\n",
              "        cursor: pointer;\n",
              "        display: none;\n",
              "        fill: #1967D2;\n",
              "        height: 32px;\n",
              "        padding: 0 0 0 0;\n",
              "        width: 32px;\n",
              "      }\n",
              "\n",
              "      .colab-df-generate:hover {\n",
              "        background-color: #E2EBFA;\n",
              "        box-shadow: 0px 1px 2px rgba(60, 64, 67, 0.3), 0px 1px 3px 1px rgba(60, 64, 67, 0.15);\n",
              "        fill: #174EA6;\n",
              "      }\n",
              "\n",
              "      [theme=dark] .colab-df-generate {\n",
              "        background-color: #3B4455;\n",
              "        fill: #D2E3FC;\n",
              "      }\n",
              "\n",
              "      [theme=dark] .colab-df-generate:hover {\n",
              "        background-color: #434B5C;\n",
              "        box-shadow: 0px 1px 3px 1px rgba(0, 0, 0, 0.15);\n",
              "        filter: drop-shadow(0px 1px 2px rgba(0, 0, 0, 0.3));\n",
              "        fill: #FFFFFF;\n",
              "      }\n",
              "    </style>\n",
              "    <button class=\"colab-df-generate\" onclick=\"generateWithVariable('df')\"\n",
              "            title=\"Generate code using this dataframe.\"\n",
              "            style=\"display:none;\">\n",
              "\n",
              "  <svg xmlns=\"http://www.w3.org/2000/svg\" height=\"24px\"viewBox=\"0 0 24 24\"\n",
              "       width=\"24px\">\n",
              "    <path d=\"M7,19H8.4L18.45,9,17,7.55,7,17.6ZM5,21V16.75L18.45,3.32a2,2,0,0,1,2.83,0l1.4,1.43a1.91,1.91,0,0,1,.58,1.4,1.91,1.91,0,0,1-.58,1.4L9.25,21ZM18.45,9,17,7.55Zm-12,3A5.31,5.31,0,0,0,4.9,8.1,5.31,5.31,0,0,0,1,6.5,5.31,5.31,0,0,0,4.9,4.9,5.31,5.31,0,0,0,6.5,1,5.31,5.31,0,0,0,8.1,4.9,5.31,5.31,0,0,0,12,6.5,5.46,5.46,0,0,0,6.5,12Z\"/>\n",
              "  </svg>\n",
              "    </button>\n",
              "    <script>\n",
              "      (() => {\n",
              "      const buttonEl =\n",
              "        document.querySelector('#id_be877568-2e47-4d27-8cfe-73bfb723f20e button.colab-df-generate');\n",
              "      buttonEl.style.display =\n",
              "        google.colab.kernel.accessAllowed ? 'block' : 'none';\n",
              "\n",
              "      buttonEl.onclick = () => {\n",
              "        google.colab.notebook.generateWithVariable('df');\n",
              "      }\n",
              "      })();\n",
              "    </script>\n",
              "  </div>\n",
              "\n",
              "    </div>\n",
              "  </div>\n"
            ],
            "application/vnd.google.colaboratory.intrinsic+json": {
              "type": "dataframe",
              "variable_name": "df",
              "summary": "{\n  \"name\": \"df\",\n  \"rows\": 99492,\n  \"fields\": [\n    {\n      \"column\": \"lat\",\n      \"properties\": {\n        \"dtype\": \"number\",\n        \"std\": 0.09444647860831352,\n        \"min\": 30.333596,\n        \"max\": 41.1671565,\n        \"num_unique_values\": 14579,\n        \"samples\": [\n          40.1413116,\n          40.1150655,\n          40.0759037\n        ],\n        \"semantic_type\": \"\",\n        \"description\": \"\"\n      }\n    },\n    {\n      \"column\": \"lng\",\n      \"properties\": {\n        \"dtype\": \"number\",\n        \"std\": 0.17482613311096284,\n        \"min\": -95.5955947,\n        \"max\": -74.9950414,\n        \"num_unique_values\": 14586,\n        \"samples\": [\n          -75.123427,\n          -75.2653364,\n          -75.135537\n        ],\n        \"semantic_type\": \"\",\n        \"description\": \"\"\n      }\n    },\n    {\n      \"column\": \"desc\",\n      \"properties\": {\n        \"dtype\": \"string\",\n        \"num_unique_values\": 99455,\n        \"samples\": [\n          \"HARTS LN;  WHITEMARSH; Station 318; 2016-05-29 @ 10:10:05;\",\n          \"EGYPT RD & PAWLINGS RD; LOWER PROVIDENCE; 2016-07-16 @ 12:56:26;\",\n          \"HORSHAM RD & GREEN TREE TAVERN RD;  HORSHAM; Station 352; 2016-03-04 @ 11:37:20;\"\n        ],\n        \"semantic_type\": \"\",\n        \"description\": \"\"\n      }\n    },\n    {\n      \"column\": \"zip\",\n      \"properties\": {\n        \"dtype\": \"number\",\n        \"std\": 345.3449141460331,\n        \"min\": 17752.0,\n        \"max\": 77316.0,\n        \"num_unique_values\": 104,\n        \"samples\": [\n          19465.0,\n          19128.0,\n          19131.0\n        ],\n        \"semantic_type\": \"\",\n        \"description\": \"\"\n      }\n    },\n    {\n      \"column\": \"title\",\n      \"properties\": {\n        \"dtype\": \"category\",\n        \"num_unique_values\": 110,\n        \"samples\": [\n          \"EMS: HAZARDOUS MATERIALS INCIDENT\",\n          \"EMS: VEHICLE ACCIDENT\",\n          \"EMS: DIZZINESS\"\n        ],\n        \"semantic_type\": \"\",\n        \"description\": \"\"\n      }\n    },\n    {\n      \"column\": \"timeStamp\",\n      \"properties\": {\n        \"dtype\": \"object\",\n        \"num_unique_values\": 72577,\n        \"samples\": [\n          \"2016-03-27 15:47:00\",\n          \"2016-02-23 11:56:01\",\n          \"2016-07-03 17:27:00\"\n        ],\n        \"semantic_type\": \"\",\n        \"description\": \"\"\n      }\n    },\n    {\n      \"column\": \"twp\",\n      \"properties\": {\n        \"dtype\": \"category\",\n        \"num_unique_values\": 68,\n        \"samples\": [\n          \"LOWER GWYNEDD\",\n          \"UPPER DUBLIN\",\n          \"LANSDALE\"\n        ],\n        \"semantic_type\": \"\",\n        \"description\": \"\"\n      }\n    },\n    {\n      \"column\": \"addr\",\n      \"properties\": {\n        \"dtype\": \"category\",\n        \"num_unique_values\": 21914,\n        \"samples\": [\n          \"JUNIATA RD & EGYPT RD\",\n          \"HALDEMAN RD & RED FOX RUN\",\n          \"SHEFFIELD CIR & HEATHERFIELD DR\"\n        ],\n        \"semantic_type\": \"\",\n        \"description\": \"\"\n      }\n    },\n    {\n      \"column\": \"e\",\n      \"properties\": {\n        \"dtype\": \"number\",\n        \"std\": 0,\n        \"min\": 1,\n        \"max\": 1,\n        \"num_unique_values\": 1,\n        \"samples\": [\n          1\n        ],\n        \"semantic_type\": \"\",\n        \"description\": \"\"\n      }\n    }\n  ]\n}"
            }
          },
          "metadata": {},
          "execution_count": 37
        }
      ]
    },
    {
      "cell_type": "code",
      "source": [],
      "metadata": {
        "id": "Cmwn0MzgM2Un"
      },
      "execution_count": null,
      "outputs": []
    },
    {
      "cell_type": "markdown",
      "metadata": {
        "id": "YWyjYGlv5FIV"
      },
      "source": [
        "**Check the info() of the dataframe**"
      ]
    },
    {
      "cell_type": "code",
      "source": [
        "df.info()"
      ],
      "metadata": {
        "id": "gaCu96k4VGEt",
        "colab": {
          "base_uri": "https://localhost:8080/"
        },
        "collapsed": true,
        "outputId": "cb9e7c4a-7346-4978-c92f-b179bd0e1dd0"
      },
      "execution_count": 38,
      "outputs": [
        {
          "output_type": "stream",
          "name": "stdout",
          "text": [
            "<class 'pandas.core.frame.DataFrame'>\n",
            "RangeIndex: 99492 entries, 0 to 99491\n",
            "Data columns (total 9 columns):\n",
            " #   Column     Non-Null Count  Dtype  \n",
            "---  ------     --------------  -----  \n",
            " 0   lat        99492 non-null  float64\n",
            " 1   lng        99492 non-null  float64\n",
            " 2   desc       99492 non-null  object \n",
            " 3   zip        86637 non-null  float64\n",
            " 4   title      99492 non-null  object \n",
            " 5   timeStamp  99492 non-null  object \n",
            " 6   twp        99449 non-null  object \n",
            " 7   addr       98973 non-null  object \n",
            " 8   e          99492 non-null  int64  \n",
            "dtypes: float64(3), int64(1), object(5)\n",
            "memory usage: 6.8+ MB\n"
          ]
        }
      ]
    },
    {
      "cell_type": "markdown",
      "metadata": {
        "id": "3W88eapu5FIW"
      },
      "source": [
        "## Basic Questions"
      ]
    },
    {
      "cell_type": "markdown",
      "metadata": {
        "id": "7tKMR-Jh5FIW"
      },
      "source": [
        "The following code finds the top 5 zipcodes for 911 calls?"
      ]
    },
    {
      "cell_type": "code",
      "execution_count": 39,
      "metadata": {
        "id": "Ed3msDjZ5FIW",
        "outputId": "87cbbdcf-cc56-42df-d027-7cb87ca83bf3",
        "colab": {
          "base_uri": "https://localhost:8080/",
          "height": 272
        }
      },
      "outputs": [
        {
          "output_type": "execute_result",
          "data": {
            "text/plain": [
              "zip\n",
              "19401.0    6979\n",
              "19464.0    6643\n",
              "19403.0    4854\n",
              "19446.0    4748\n",
              "19406.0    3174\n",
              "Name: count, dtype: int64"
            ],
            "text/html": [
              "<div>\n",
              "<style scoped>\n",
              "    .dataframe tbody tr th:only-of-type {\n",
              "        vertical-align: middle;\n",
              "    }\n",
              "\n",
              "    .dataframe tbody tr th {\n",
              "        vertical-align: top;\n",
              "    }\n",
              "\n",
              "    .dataframe thead th {\n",
              "        text-align: right;\n",
              "    }\n",
              "</style>\n",
              "<table border=\"1\" class=\"dataframe\">\n",
              "  <thead>\n",
              "    <tr style=\"text-align: right;\">\n",
              "      <th></th>\n",
              "      <th>count</th>\n",
              "    </tr>\n",
              "    <tr>\n",
              "      <th>zip</th>\n",
              "      <th></th>\n",
              "    </tr>\n",
              "  </thead>\n",
              "  <tbody>\n",
              "    <tr>\n",
              "      <th>19401.0</th>\n",
              "      <td>6979</td>\n",
              "    </tr>\n",
              "    <tr>\n",
              "      <th>19464.0</th>\n",
              "      <td>6643</td>\n",
              "    </tr>\n",
              "    <tr>\n",
              "      <th>19403.0</th>\n",
              "      <td>4854</td>\n",
              "    </tr>\n",
              "    <tr>\n",
              "      <th>19446.0</th>\n",
              "      <td>4748</td>\n",
              "    </tr>\n",
              "    <tr>\n",
              "      <th>19406.0</th>\n",
              "      <td>3174</td>\n",
              "    </tr>\n",
              "  </tbody>\n",
              "</table>\n",
              "</div><br><label><b>dtype:</b> int64</label>"
            ]
          },
          "metadata": {},
          "execution_count": 39
        }
      ],
      "source": [
        "df['zip'].value_counts().head(5)"
      ]
    },
    {
      "cell_type": "markdown",
      "source": [
        "Now, I want you to compute the same using an alternative way.\n",
        "\n",
        "Hints: df.groupby('zip').size().something_here.head(5)"
      ],
      "metadata": {
        "id": "lgNJtpBsQ4hn"
      }
    },
    {
      "cell_type": "code",
      "source": [
        "df.groupby('zip').size().head(5)"
      ],
      "metadata": {
        "id": "MFoRFUMiGOax",
        "colab": {
          "base_uri": "https://localhost:8080/",
          "height": 272
        },
        "outputId": "94dcf3b0-31c8-46c0-8f68-4ec9a5b5a5ec"
      },
      "execution_count": 49,
      "outputs": [
        {
          "output_type": "execute_result",
          "data": {
            "text/plain": [
              "zip\n",
              "17752.0      1\n",
              "18036.0      2\n",
              "18041.0    414\n",
              "18054.0    326\n",
              "18056.0      6\n",
              "dtype: int64"
            ],
            "text/html": [
              "<div>\n",
              "<style scoped>\n",
              "    .dataframe tbody tr th:only-of-type {\n",
              "        vertical-align: middle;\n",
              "    }\n",
              "\n",
              "    .dataframe tbody tr th {\n",
              "        vertical-align: top;\n",
              "    }\n",
              "\n",
              "    .dataframe thead th {\n",
              "        text-align: right;\n",
              "    }\n",
              "</style>\n",
              "<table border=\"1\" class=\"dataframe\">\n",
              "  <thead>\n",
              "    <tr style=\"text-align: right;\">\n",
              "      <th></th>\n",
              "      <th>0</th>\n",
              "    </tr>\n",
              "    <tr>\n",
              "      <th>zip</th>\n",
              "      <th></th>\n",
              "    </tr>\n",
              "  </thead>\n",
              "  <tbody>\n",
              "    <tr>\n",
              "      <th>17752.0</th>\n",
              "      <td>1</td>\n",
              "    </tr>\n",
              "    <tr>\n",
              "      <th>18036.0</th>\n",
              "      <td>2</td>\n",
              "    </tr>\n",
              "    <tr>\n",
              "      <th>18041.0</th>\n",
              "      <td>414</td>\n",
              "    </tr>\n",
              "    <tr>\n",
              "      <th>18054.0</th>\n",
              "      <td>326</td>\n",
              "    </tr>\n",
              "    <tr>\n",
              "      <th>18056.0</th>\n",
              "      <td>6</td>\n",
              "    </tr>\n",
              "  </tbody>\n",
              "</table>\n",
              "</div><br><label><b>dtype:</b> int64</label>"
            ]
          },
          "metadata": {},
          "execution_count": 49
        }
      ]
    },
    {
      "cell_type": "markdown",
      "metadata": {
        "id": "Ha4d0PCV5FIW"
      },
      "source": [
        "**What are the top 5 townships (twp) for 911 calls?**"
      ]
    },
    {
      "cell_type": "code",
      "source": [
        "df.groupby('twp').size().head(5)"
      ],
      "metadata": {
        "id": "8gVQ6BolVvW-",
        "colab": {
          "base_uri": "https://localhost:8080/",
          "height": 272
        },
        "outputId": "e70c857c-963e-43d6-d5d9-579cd9cc7b29"
      },
      "execution_count": 45,
      "outputs": [
        {
          "output_type": "execute_result",
          "data": {
            "text/plain": [
              "twp\n",
              "ABINGTON        5977\n",
              "AMBLER           601\n",
              "BERKS COUNTY     284\n",
              "BRIDGEPORT       555\n",
              "BRYN ATHYN       173\n",
              "dtype: int64"
            ],
            "text/html": [
              "<div>\n",
              "<style scoped>\n",
              "    .dataframe tbody tr th:only-of-type {\n",
              "        vertical-align: middle;\n",
              "    }\n",
              "\n",
              "    .dataframe tbody tr th {\n",
              "        vertical-align: top;\n",
              "    }\n",
              "\n",
              "    .dataframe thead th {\n",
              "        text-align: right;\n",
              "    }\n",
              "</style>\n",
              "<table border=\"1\" class=\"dataframe\">\n",
              "  <thead>\n",
              "    <tr style=\"text-align: right;\">\n",
              "      <th></th>\n",
              "      <th>0</th>\n",
              "    </tr>\n",
              "    <tr>\n",
              "      <th>twp</th>\n",
              "      <th></th>\n",
              "    </tr>\n",
              "  </thead>\n",
              "  <tbody>\n",
              "    <tr>\n",
              "      <th>ABINGTON</th>\n",
              "      <td>5977</td>\n",
              "    </tr>\n",
              "    <tr>\n",
              "      <th>AMBLER</th>\n",
              "      <td>601</td>\n",
              "    </tr>\n",
              "    <tr>\n",
              "      <th>BERKS COUNTY</th>\n",
              "      <td>284</td>\n",
              "    </tr>\n",
              "    <tr>\n",
              "      <th>BRIDGEPORT</th>\n",
              "      <td>555</td>\n",
              "    </tr>\n",
              "    <tr>\n",
              "      <th>BRYN ATHYN</th>\n",
              "      <td>173</td>\n",
              "    </tr>\n",
              "  </tbody>\n",
              "</table>\n",
              "</div><br><label><b>dtype:</b> int64</label>"
            ]
          },
          "metadata": {},
          "execution_count": 45
        }
      ]
    },
    {
      "cell_type": "code",
      "execution_count": null,
      "metadata": {
        "id": "yC0efUWa5FIW",
        "outputId": "b6cbb99c-6543-44fa-9590-b0f09316eeb6",
        "colab": {
          "base_uri": "https://localhost:8080/"
        }
      },
      "outputs": [
        {
          "output_type": "execute_result",
          "data": {
            "text/plain": [
              "LOWER MERION    8443\n",
              "ABINGTON        5977\n",
              "NORRISTOWN      5890\n",
              "UPPER MERION    5227\n",
              "CHELTENHAM      4575\n",
              "Name: twp, dtype: int64"
            ]
          },
          "metadata": {},
          "execution_count": 11
        }
      ],
      "source": []
    },
    {
      "cell_type": "markdown",
      "metadata": {
        "id": "3dSW5ITt5FIW"
      },
      "source": [
        "**Take a look at the 'title' column, how many unique title codes are there?**"
      ]
    },
    {
      "cell_type": "code",
      "source": [],
      "metadata": {
        "id": "vbst-LVaOpVm"
      },
      "execution_count": null,
      "outputs": []
    },
    {
      "cell_type": "code",
      "execution_count": null,
      "metadata": {
        "id": "W39Gk2Xs5FIW",
        "outputId": "44f3829a-5bfe-4935-9f0c-02a8cd63a6f9",
        "colab": {
          "base_uri": "https://localhost:8080/"
        }
      },
      "outputs": [
        {
          "output_type": "execute_result",
          "data": {
            "text/plain": [
              "110"
            ]
          },
          "metadata": {},
          "execution_count": 56
        }
      ],
      "source": []
    },
    {
      "cell_type": "markdown",
      "source": [
        "**What are those title code?**"
      ],
      "metadata": {
        "id": "5mSAeaaxkY2f"
      }
    },
    {
      "cell_type": "code",
      "source": [],
      "metadata": {
        "colab": {
          "base_uri": "https://localhost:8080/"
        },
        "id": "2SruxpTokCWY",
        "outputId": "15eb960f-e561-454d-907e-e7bfa24d0231"
      },
      "execution_count": null,
      "outputs": [
        {
          "output_type": "execute_result",
          "data": {
            "text/plain": [
              "array(['EMS: BACK PAINS/INJURY', 'EMS: DIABETIC EMERGENCY',\n",
              "       'Fire: GAS-ODOR/LEAK', 'EMS: CARDIAC EMERGENCY', 'EMS: DIZZINESS',\n",
              "       'EMS: HEAD INJURY', 'EMS: NAUSEA/VOMITING',\n",
              "       'EMS: RESPIRATORY EMERGENCY', 'EMS: SYNCOPAL EPISODE',\n",
              "       'Traffic: VEHICLE ACCIDENT -', 'EMS: VEHICLE ACCIDENT',\n",
              "       'Traffic: DISABLED VEHICLE -', 'Fire: APPLIANCE FIRE',\n",
              "       'EMS: GENERAL WEAKNESS', 'Fire: CARBON MONOXIDE DETECTOR',\n",
              "       'EMS: UNKNOWN MEDICAL EMERGENCY', 'EMS: UNRESPONSIVE SUBJECT',\n",
              "       'Fire: VEHICLE ACCIDENT', 'EMS: ALTERED MENTAL STATUS',\n",
              "       'Fire: FIRE ALARM', 'EMS: CVA/STROKE',\n",
              "       'Traffic: ROAD OBSTRUCTION -', 'EMS: SUBJECT IN PAIN',\n",
              "       'EMS: HEMORRHAGING', 'EMS: FALL VICTIM', 'EMS: ASSAULT VICTIM',\n",
              "       'EMS: SEIZURES', 'EMS: MEDICAL ALERT ALARM',\n",
              "       'EMS: ABDOMINAL PAINS', 'Fire: PUMP DETAIL',\n",
              "       'Fire: FIRE INVESTIGATION', 'EMS: OVERDOSE', 'EMS: MATERNITY',\n",
              "       'EMS: UNCONSCIOUS SUBJECT', 'EMS: CHOKING', 'EMS: LACERATIONS',\n",
              "       'Fire: TRASH/DUMPSTER FIRE', 'Fire: UNKNOWN TYPE FIRE',\n",
              "       'Fire: BUILDING FIRE', 'Fire: ELECTRICAL FIRE OUTSIDE',\n",
              "       'Fire: DEBRIS/FLUIDS ON HIGHWAY',\n",
              "       'Traffic: DEBRIS/FLUIDS ON HIGHWAY -', 'EMS: FEVER',\n",
              "       'EMS: ALLERGIC REACTION', 'Traffic: VEHICLE LEAKING FUEL -',\n",
              "       'EMS: FRACTURE', 'Fire: BURN VICTIM', 'EMS: BURN VICTIM',\n",
              "       'Fire: RESCUE - GENERAL', 'Fire: WOODS/FIELD FIRE',\n",
              "       'EMS: RESCUE - GENERAL', 'Fire: FIRE SPECIAL SERVICE',\n",
              "       'Fire: VEHICLE FIRE', 'Traffic: VEHICLE FIRE -',\n",
              "       'EMS: WARRANT SERVICE', 'Fire: S/B AT HELICOPTER LANDING',\n",
              "       'EMS: EMS SPECIAL SERVICE', 'Traffic: HAZARDOUS ROAD CONDITIONS -',\n",
              "       'Fire: RESCUE - ELEVATOR', 'EMS: FIRE SPECIAL SERVICE',\n",
              "       'EMS: DEHYDRATION', 'EMS: CARBON MONOXIDE DETECTOR',\n",
              "       'EMS: BUILDING FIRE', 'EMS: APPLIANCE FIRE', 'EMS: SHOOTING',\n",
              "       'EMS: POISONING', 'Fire: TRANSFERRED CALL',\n",
              "       'Fire: RESCUE - TECHNICAL', 'EMS: RESCUE - TECHNICAL',\n",
              "       'Fire: VEHICLE LEAKING FUEL', 'EMS: EYE INJURY',\n",
              "       'EMS: ELECTROCUTION', 'EMS: STABBING', 'Fire: FIRE POLICE NEEDED',\n",
              "       'EMS: AMPUTATION', 'EMS: ANIMAL BITE', 'EMS: FIRE ALARM',\n",
              "       'EMS: VEHICLE FIRE', 'EMS: HAZARDOUS MATERIALS INCIDENT',\n",
              "       'EMS: RESCUE - ELEVATOR', 'EMS: FIRE INVESTIGATION',\n",
              "       'Fire: MEDICAL ALERT ALARM', 'EMS: UNKNOWN TYPE FIRE',\n",
              "       'EMS: GAS-ODOR/LEAK', 'Fire: TRAIN CRASH',\n",
              "       'Fire: HAZARDOUS MATERIALS INCIDENT', 'EMS: TRANSFERRED CALL',\n",
              "       'EMS: TRAIN CRASH', 'EMS: RESCUE - WATER',\n",
              "       'EMS: S/B AT HELICOPTER LANDING',\n",
              "       'Fire: UNKNOWN MEDICAL EMERGENCY', 'Fire: RESCUE - WATER',\n",
              "       'EMS: CARDIAC ARREST', 'EMS: PLANE CRASH', 'Fire: PLANE CRASH',\n",
              "       'EMS: WOODS/FIELD FIRE', 'Fire: CARDIAC ARREST',\n",
              "       'Fire: EMS SPECIAL SERVICE', 'Fire: UNCONSCIOUS SUBJECT',\n",
              "       'EMS: HEAT EXHAUSTION', 'EMS: DEBRIS/FLUIDS ON HIGHWAY',\n",
              "       'EMS: ACTIVE SHOOTER', 'EMS: DISABLED VEHICLE',\n",
              "       'Fire: POLICE INFORMATION', 'Fire: DIABETIC EMERGENCY',\n",
              "       'EMS: BOMB DEVICE FOUND', 'Fire: SYNCOPAL EPISODE',\n",
              "       'EMS: INDUSTRIAL ACCIDENT', 'EMS: DROWNING', 'EMS: SUSPICIOUS'],\n",
              "      dtype=object)"
            ]
          },
          "metadata": {},
          "execution_count": 57
        }
      ]
    },
    {
      "cell_type": "markdown",
      "source": [
        "**Make a DataFrame of those title codes.**"
      ],
      "metadata": {
        "id": "JW9l7GWsqhGh"
      }
    },
    {
      "cell_type": "code",
      "source": [],
      "metadata": {
        "colab": {
          "base_uri": "https://localhost:8080/",
          "height": 423
        },
        "id": "pkv2rI8Zkrfv",
        "outputId": "9cd2eec7-3bc1-4876-eee5-f7c17d39ef23"
      },
      "execution_count": null,
      "outputs": [
        {
          "output_type": "execute_result",
          "data": {
            "text/plain": [
              "                            0\n",
              "0      EMS: BACK PAINS/INJURY\n",
              "1     EMS: DIABETIC EMERGENCY\n",
              "2         Fire: GAS-ODOR/LEAK\n",
              "3      EMS: CARDIAC EMERGENCY\n",
              "4              EMS: DIZZINESS\n",
              "..                        ...\n",
              "105    EMS: BOMB DEVICE FOUND\n",
              "106    Fire: SYNCOPAL EPISODE\n",
              "107  EMS: INDUSTRIAL ACCIDENT\n",
              "108             EMS: DROWNING\n",
              "109           EMS: SUSPICIOUS\n",
              "\n",
              "[110 rows x 1 columns]"
            ],
            "text/html": [
              "\n",
              "  <div id=\"df-7dc52cba-9351-4b02-9e8a-5b6cb48f2f5d\">\n",
              "    <div class=\"colab-df-container\">\n",
              "      <div>\n",
              "<style scoped>\n",
              "    .dataframe tbody tr th:only-of-type {\n",
              "        vertical-align: middle;\n",
              "    }\n",
              "\n",
              "    .dataframe tbody tr th {\n",
              "        vertical-align: top;\n",
              "    }\n",
              "\n",
              "    .dataframe thead th {\n",
              "        text-align: right;\n",
              "    }\n",
              "</style>\n",
              "<table border=\"1\" class=\"dataframe\">\n",
              "  <thead>\n",
              "    <tr style=\"text-align: right;\">\n",
              "      <th></th>\n",
              "      <th>0</th>\n",
              "    </tr>\n",
              "  </thead>\n",
              "  <tbody>\n",
              "    <tr>\n",
              "      <th>0</th>\n",
              "      <td>EMS: BACK PAINS/INJURY</td>\n",
              "    </tr>\n",
              "    <tr>\n",
              "      <th>1</th>\n",
              "      <td>EMS: DIABETIC EMERGENCY</td>\n",
              "    </tr>\n",
              "    <tr>\n",
              "      <th>2</th>\n",
              "      <td>Fire: GAS-ODOR/LEAK</td>\n",
              "    </tr>\n",
              "    <tr>\n",
              "      <th>3</th>\n",
              "      <td>EMS: CARDIAC EMERGENCY</td>\n",
              "    </tr>\n",
              "    <tr>\n",
              "      <th>4</th>\n",
              "      <td>EMS: DIZZINESS</td>\n",
              "    </tr>\n",
              "    <tr>\n",
              "      <th>...</th>\n",
              "      <td>...</td>\n",
              "    </tr>\n",
              "    <tr>\n",
              "      <th>105</th>\n",
              "      <td>EMS: BOMB DEVICE FOUND</td>\n",
              "    </tr>\n",
              "    <tr>\n",
              "      <th>106</th>\n",
              "      <td>Fire: SYNCOPAL EPISODE</td>\n",
              "    </tr>\n",
              "    <tr>\n",
              "      <th>107</th>\n",
              "      <td>EMS: INDUSTRIAL ACCIDENT</td>\n",
              "    </tr>\n",
              "    <tr>\n",
              "      <th>108</th>\n",
              "      <td>EMS: DROWNING</td>\n",
              "    </tr>\n",
              "    <tr>\n",
              "      <th>109</th>\n",
              "      <td>EMS: SUSPICIOUS</td>\n",
              "    </tr>\n",
              "  </tbody>\n",
              "</table>\n",
              "<p>110 rows × 1 columns</p>\n",
              "</div>\n",
              "      <button class=\"colab-df-convert\" onclick=\"convertToInteractive('df-7dc52cba-9351-4b02-9e8a-5b6cb48f2f5d')\"\n",
              "              title=\"Convert this dataframe to an interactive table.\"\n",
              "              style=\"display:none;\">\n",
              "        \n",
              "  <svg xmlns=\"http://www.w3.org/2000/svg\" height=\"24px\"viewBox=\"0 0 24 24\"\n",
              "       width=\"24px\">\n",
              "    <path d=\"M0 0h24v24H0V0z\" fill=\"none\"/>\n",
              "    <path d=\"M18.56 5.44l.94 2.06.94-2.06 2.06-.94-2.06-.94-.94-2.06-.94 2.06-2.06.94zm-11 1L8.5 8.5l.94-2.06 2.06-.94-2.06-.94L8.5 2.5l-.94 2.06-2.06.94zm10 10l.94 2.06.94-2.06 2.06-.94-2.06-.94-.94-2.06-.94 2.06-2.06.94z\"/><path d=\"M17.41 7.96l-1.37-1.37c-.4-.4-.92-.59-1.43-.59-.52 0-1.04.2-1.43.59L10.3 9.45l-7.72 7.72c-.78.78-.78 2.05 0 2.83L4 21.41c.39.39.9.59 1.41.59.51 0 1.02-.2 1.41-.59l7.78-7.78 2.81-2.81c.8-.78.8-2.07 0-2.86zM5.41 20L4 18.59l7.72-7.72 1.47 1.35L5.41 20z\"/>\n",
              "  </svg>\n",
              "      </button>\n",
              "      \n",
              "  <style>\n",
              "    .colab-df-container {\n",
              "      display:flex;\n",
              "      flex-wrap:wrap;\n",
              "      gap: 12px;\n",
              "    }\n",
              "\n",
              "    .colab-df-convert {\n",
              "      background-color: #E8F0FE;\n",
              "      border: none;\n",
              "      border-radius: 50%;\n",
              "      cursor: pointer;\n",
              "      display: none;\n",
              "      fill: #1967D2;\n",
              "      height: 32px;\n",
              "      padding: 0 0 0 0;\n",
              "      width: 32px;\n",
              "    }\n",
              "\n",
              "    .colab-df-convert:hover {\n",
              "      background-color: #E2EBFA;\n",
              "      box-shadow: 0px 1px 2px rgba(60, 64, 67, 0.3), 0px 1px 3px 1px rgba(60, 64, 67, 0.15);\n",
              "      fill: #174EA6;\n",
              "    }\n",
              "\n",
              "    [theme=dark] .colab-df-convert {\n",
              "      background-color: #3B4455;\n",
              "      fill: #D2E3FC;\n",
              "    }\n",
              "\n",
              "    [theme=dark] .colab-df-convert:hover {\n",
              "      background-color: #434B5C;\n",
              "      box-shadow: 0px 1px 3px 1px rgba(0, 0, 0, 0.15);\n",
              "      filter: drop-shadow(0px 1px 2px rgba(0, 0, 0, 0.3));\n",
              "      fill: #FFFFFF;\n",
              "    }\n",
              "  </style>\n",
              "\n",
              "      <script>\n",
              "        const buttonEl =\n",
              "          document.querySelector('#df-7dc52cba-9351-4b02-9e8a-5b6cb48f2f5d button.colab-df-convert');\n",
              "        buttonEl.style.display =\n",
              "          google.colab.kernel.accessAllowed ? 'block' : 'none';\n",
              "\n",
              "        async function convertToInteractive(key) {\n",
              "          const element = document.querySelector('#df-7dc52cba-9351-4b02-9e8a-5b6cb48f2f5d');\n",
              "          const dataTable =\n",
              "            await google.colab.kernel.invokeFunction('convertToInteractive',\n",
              "                                                     [key], {});\n",
              "          if (!dataTable) return;\n",
              "\n",
              "          const docLinkHtml = 'Like what you see? Visit the ' +\n",
              "            '<a target=\"_blank\" href=https://colab.research.google.com/notebooks/data_table.ipynb>data table notebook</a>'\n",
              "            + ' to learn more about interactive tables.';\n",
              "          element.innerHTML = '';\n",
              "          dataTable['output_type'] = 'display_data';\n",
              "          await google.colab.output.renderOutput(dataTable, element);\n",
              "          const docLink = document.createElement('div');\n",
              "          docLink.innerHTML = docLinkHtml;\n",
              "          element.appendChild(docLink);\n",
              "        }\n",
              "      </script>\n",
              "    </div>\n",
              "  </div>\n",
              "  "
            ]
          },
          "metadata": {},
          "execution_count": 58
        }
      ]
    },
    {
      "cell_type": "markdown",
      "metadata": {
        "id": "CRbQwbyh5FIW"
      },
      "source": [
        "## Creating new features"
      ]
    },
    {
      "cell_type": "markdown",
      "metadata": {
        "id": "TFyS-o3P5FIW"
      },
      "source": [
        "**In the titles column there are \"Reasons/Departments\" specified before the title code. These are EMS, Fire, and Traffic. Use .apply() with a custom lambda expression to create a new column called \"Reason\" that contains this string value.**\n",
        "\n",
        "**For example, if the title column value is EMS: BACK PAINS/INJURY , the Reason column value would be EMS.**"
      ]
    },
    {
      "cell_type": "code",
      "source": [],
      "metadata": {
        "id": "13dKVLZaIU1-"
      },
      "execution_count": null,
      "outputs": []
    },
    {
      "cell_type": "code",
      "execution_count": null,
      "metadata": {
        "id": "XZWz4zsW5FIW",
        "colab": {
          "base_uri": "https://localhost:8080/"
        },
        "outputId": "d8fa62c0-a19f-430c-f925-115ad92b8449"
      },
      "outputs": [
        {
          "output_type": "execute_result",
          "data": {
            "text/plain": [
              "0            EMS\n",
              "1            EMS\n",
              "2           Fire\n",
              "3            EMS\n",
              "4            EMS\n",
              "          ...   \n",
              "99487    Traffic\n",
              "99488    Traffic\n",
              "99489        EMS\n",
              "99490        EMS\n",
              "99491    Traffic\n",
              "Name: Reason, Length: 99492, dtype: object"
            ]
          },
          "metadata": {},
          "execution_count": 59
        }
      ],
      "source": []
    },
    {
      "cell_type": "markdown",
      "metadata": {
        "id": "KGbPvtlr5FIW"
      },
      "source": [
        "**What is the most common Reason for a 911 call based off of this new column?**"
      ]
    },
    {
      "cell_type": "code",
      "execution_count": null,
      "metadata": {
        "id": "TKUGEuBj5FIW",
        "outputId": "adba72c5-cfc0-48f9-a3e8-3b66ff79e1c8",
        "colab": {
          "base_uri": "https://localhost:8080/"
        }
      },
      "outputs": [
        {
          "output_type": "execute_result",
          "data": {
            "text/plain": [
              "EMS        48877\n",
              "Traffic    35695\n",
              "Fire       14920\n",
              "Name: Reason, dtype: int64"
            ]
          },
          "metadata": {},
          "execution_count": 60
        }
      ],
      "source": []
    },
    {
      "cell_type": "markdown",
      "source": [
        "## Visualizations"
      ],
      "metadata": {
        "id": "pqJMT2hRIfxi"
      }
    },
    {
      "cell_type": "markdown",
      "metadata": {
        "id": "v5MJwEU05FIW"
      },
      "source": [
        "**Use seaborn to create a countplot of 911 calls by Reason.**"
      ]
    },
    {
      "cell_type": "code",
      "source": [],
      "metadata": {
        "id": "mglWwRxKV8Yy"
      },
      "execution_count": null,
      "outputs": []
    },
    {
      "cell_type": "code",
      "execution_count": null,
      "metadata": {
        "id": "D0Fd2wVX5FIX",
        "outputId": "5c19ada7-6bbe-4049-c541-850b15a17725",
        "colab": {
          "base_uri": "https://localhost:8080/",
          "height": 467
        }
      },
      "outputs": [
        {
          "output_type": "execute_result",
          "data": {
            "text/plain": [
              "<Axes: xlabel='Reason', ylabel='count'>"
            ]
          },
          "metadata": {},
          "execution_count": 61
        },
        {
          "output_type": "display_data",
          "data": {
            "text/plain": [
              "<Figure size 640x480 with 1 Axes>"
            ],
            "image/png": "[encoded data removed]"
          },
          "metadata": {}
        }
      ],
      "source": []
    },
    {
      "cell_type": "markdown",
      "metadata": {
        "id": "Pj4RDkm55FIX"
      },
      "source": [
        "___\n",
        "** Now let us begin to focus on time information. What is the data type of the objects in the timeStamp column? **"
      ]
    },
    {
      "cell_type": "code",
      "source": [
        "df['timeStamp']"
      ],
      "metadata": {
        "colab": {
          "base_uri": "https://localhost:8080/"
        },
        "id": "57_6eNkuPZdb",
        "outputId": "e6e187d5-8318-42dd-a6ff-9a67fdd248cc"
      },
      "execution_count": null,
      "outputs": [
        {
          "output_type": "execute_result",
          "data": {
            "text/plain": [
              "0        2015-12-10 17:40:00\n",
              "1        2015-12-10 17:40:00\n",
              "2        2015-12-10 17:40:00\n",
              "3        2015-12-10 17:40:01\n",
              "4        2015-12-10 17:40:01\n",
              "                ...         \n",
              "99487    2016-08-24 11:06:00\n",
              "99488    2016-08-24 11:07:02\n",
              "99489    2016-08-24 11:12:00\n",
              "99490    2016-08-24 11:17:01\n",
              "99491    2016-08-24 11:17:02\n",
              "Name: timeStamp, Length: 99492, dtype: object"
            ]
          },
          "metadata": {},
          "execution_count": 62
        }
      ]
    },
    {
      "cell_type": "code",
      "execution_count": null,
      "metadata": {
        "id": "PjVCCeC75FIX",
        "outputId": "c02bb587-b500-47a8-b4be-c38d87b13c97",
        "colab": {
          "base_uri": "https://localhost:8080/"
        }
      },
      "outputs": [
        {
          "output_type": "execute_result",
          "data": {
            "text/plain": [
              "str"
            ]
          },
          "metadata": {},
          "execution_count": 63
        }
      ],
      "source": [
        "type(df['timeStamp'].iloc[0])"
      ]
    },
    {
      "cell_type": "markdown",
      "metadata": {
        "id": "gWN0xgx45FIX"
      },
      "source": [
        "** You should have seen that these timestamps are still strings. Use [pd.to_datetime](http://pandas.pydata.org/pandas-docs/stable/generated/pandas.to_datetime.html) to convert the column from strings to DateTime objects. **"
      ]
    },
    {
      "cell_type": "code",
      "execution_count": null,
      "metadata": {
        "collapsed": true,
        "id": "tzCFgLkr5FIX"
      },
      "outputs": [],
      "source": [
        "df['timeStamp'] = pd.to_datetime(df['timeStamp'])"
      ]
    },
    {
      "cell_type": "code",
      "source": [
        "df['timeStamp']"
      ],
      "metadata": {
        "colab": {
          "base_uri": "https://localhost:8080/"
        },
        "id": "522t8a9wPu78",
        "outputId": "01f9b79d-35d9-4d0b-aa9e-4c4f39ea1533"
      },
      "execution_count": null,
      "outputs": [
        {
          "output_type": "execute_result",
          "data": {
            "text/plain": [
              "0       2015-12-10 17:40:00\n",
              "1       2015-12-10 17:40:00\n",
              "2       2015-12-10 17:40:00\n",
              "3       2015-12-10 17:40:01\n",
              "4       2015-12-10 17:40:01\n",
              "                ...        \n",
              "99487   2016-08-24 11:06:00\n",
              "99488   2016-08-24 11:07:02\n",
              "99489   2016-08-24 11:12:00\n",
              "99490   2016-08-24 11:17:01\n",
              "99491   2016-08-24 11:17:02\n",
              "Name: timeStamp, Length: 99492, dtype: datetime64[ns]"
            ]
          },
          "metadata": {},
          "execution_count": 65
        }
      ]
    },
    {
      "cell_type": "markdown",
      "metadata": {
        "id": "AOailTnQ5FIX"
      },
      "source": [
        "** You can now grab specific attributes from a Datetime object by calling them. For example:**\n",
        "\n",
        "    time = df['timeStamp'].iloc[0]\n",
        "    time.hour\n",
        "\n",
        "**You can use Jupyter's tab method to explore the various attributes you can call. Now that the timestamp column are actually DateTime objects, use .apply() to create 3 new columns called Hour, Month, and Day of Week. You will create these columns based off of the timeStamp column, reference the solutions if you get stuck on this step.**"
      ]
    },
    {
      "cell_type": "code",
      "execution_count": null,
      "metadata": {
        "id": "wlak5MhV5FIX"
      },
      "outputs": [],
      "source": [
        "df['Hour'] = df['timeStamp'].apply(lambda time: time.hour)\n"
      ]
    },
    {
      "cell_type": "code",
      "source": [
        "df['Month'] =\n",
        "df['Day of Week'] ="
      ],
      "metadata": {
        "id": "TUYu7hFeWPNN"
      },
      "execution_count": null,
      "outputs": []
    },
    {
      "cell_type": "markdown",
      "metadata": {
        "collapsed": false,
        "id": "CEP2EQVY5FIX"
      },
      "source": [
        "**Notice how the Day of Week is an integer 0-6. Use the .map() with this dictionary to map the actual string names to the day of the week:**\n",
        "\n",
        "```python\n",
        "dmap = {0:'Mon',1:'Tue',2:'Wed',3:'Thu',4:'Fri',5:'Sat',6:'Sun'}\n",
        "```"
      ]
    },
    {
      "cell_type": "code",
      "execution_count": null,
      "metadata": {
        "id": "gtLKLUpj5FIX"
      },
      "outputs": [],
      "source": [
        "dmap = {0:'Mon',1:'Tue',2:'Wed',3:'Thu',4:'Fri',5:'Sat',6:'Sun'}"
      ]
    },
    {
      "cell_type": "code",
      "execution_count": null,
      "metadata": {
        "id": "SzvdqsUH5FIX",
        "colab": {
          "base_uri": "https://localhost:8080/"
        },
        "outputId": "121ba87f-81fb-4cb0-d50e-d03c49504d34"
      },
      "outputs": [
        {
          "output_type": "execute_result",
          "data": {
            "text/plain": [
              "0        Thu\n",
              "1        Thu\n",
              "2        Thu\n",
              "3        Thu\n",
              "4        Thu\n",
              "        ... \n",
              "99487    Wed\n",
              "99488    Wed\n",
              "99489    Wed\n",
              "99490    Wed\n",
              "99491    Wed\n",
              "Name: Day of Week, Length: 99492, dtype: object"
            ]
          },
          "metadata": {},
          "execution_count": 68
        }
      ],
      "source": [
        "df['Day of Week'] = df['Day of Week'].map(dmap)\n",
        "df['Day of Week']"
      ]
    },
    {
      "cell_type": "markdown",
      "metadata": {
        "collapsed": false,
        "id": "9N8KqAhC5FIX"
      },
      "source": [
        "**Now use seaborn to create a countplot of the Day of Week column with the hue based off of the Reason column.**"
      ]
    },
    {
      "cell_type": "code",
      "source": [],
      "metadata": {
        "id": "ePRpEz8QWaT4"
      },
      "execution_count": null,
      "outputs": []
    },
    {
      "cell_type": "code",
      "execution_count": null,
      "metadata": {
        "id": "Q5ZwMmmL5FIX",
        "outputId": "41281415-03ba-4598-d3ca-7210ff4dee02",
        "colab": {
          "base_uri": "https://localhost:8080/",
          "height": 467
        }
      },
      "outputs": [
        {
          "output_type": "execute_result",
          "data": {
            "text/plain": [
              "<matplotlib.legend.Legend at 0x7f473c434a30>"
            ]
          },
          "metadata": {},
          "execution_count": 69
        },
        {
          "output_type": "display_data",
          "data": {
            "text/plain": [
              "<Figure size 640x480 with 1 Axes>"
            ],
            "image/png": "[encoded data removed]"
          },
          "metadata": {}
        }
      ],
      "source": [
        "\n",
        "# To relocate the legend\n",
        "#plt.legend(bbox_to_anchor=(1.05, 1), loc=2, borderaxespad=0.)"
      ]
    },
    {
      "cell_type": "markdown",
      "metadata": {
        "id": "uVHBdl4R5FIX"
      },
      "source": [
        "**Now do the same for Month:**"
      ]
    },
    {
      "cell_type": "code",
      "source": [],
      "metadata": {
        "id": "XGl3AbbYWj09"
      },
      "execution_count": null,
      "outputs": []
    },
    {
      "cell_type": "code",
      "execution_count": null,
      "metadata": {
        "id": "nZ23-iVL5FIX",
        "outputId": "409ba459-798f-440a-abdb-19a19a9168df",
        "colab": {
          "base_uri": "https://localhost:8080/",
          "height": 467
        }
      },
      "outputs": [
        {
          "output_type": "execute_result",
          "data": {
            "text/plain": [
              "<matplotlib.legend.Legend at 0x7f473a8b51e0>"
            ]
          },
          "metadata": {},
          "execution_count": 70
        },
        {
          "output_type": "display_data",
          "data": {
            "text/plain": [
              "<Figure size 640x480 with 1 Axes>"
            ],
            "image/png": "[encoded data removed]"
          },
          "metadata": {}
        }
      ],
      "source": []
    },
    {
      "cell_type": "markdown",
      "metadata": {
        "id": "eBpTjmA65FIY"
      },
      "source": [
        "**Did you notice something strange about the Plot?**"
      ]
    },
    {
      "cell_type": "code",
      "execution_count": null,
      "metadata": {
        "collapsed": true,
        "id": "PUW6BruT5FIY"
      },
      "outputs": [],
      "source": [
        "# It is missing some months! 9,10, and 11 are not there."
      ]
    },
    {
      "cell_type": "markdown",
      "metadata": {
        "id": "ovodREpy5FIY"
      },
      "source": [
        "**You should have noticed it was missing some Months, let's see if we can maybe fill in this information by plotting the information in another way, possibly a simple line plot that fills in the missing months, in order to do this, we'll need to do some work with pandas...**"
      ]
    },
    {
      "cell_type": "markdown",
      "metadata": {
        "id": "412KVFcW5FIY"
      },
      "source": [
        "**Now create a gropuby object called byMonth, where you group the DataFrame by the month column and use the count() method for aggregation. Use the head() method on this returned DataFrame.**"
      ]
    },
    {
      "cell_type": "code",
      "execution_count": null,
      "metadata": {
        "id": "MN0spNRz5FIY",
        "outputId": "308c2481-c96e-4d30-ba30-41a25eda5025",
        "colab": {
          "base_uri": "https://localhost:8080/",
          "height": 237
        }
      },
      "outputs": [
        {
          "output_type": "execute_result",
          "data": {
            "text/plain": [
              "         lat    lng   desc    zip  title  timeStamp    twp   addr      e  \\\n",
              "Month                                                                      \n",
              "1      13205  13205  13205  11527  13205      13205  13203  13096  13205   \n",
              "2      11467  11467  11467   9930  11467      11467  11465  11396  11467   \n",
              "3      11101  11101  11101   9755  11101      11101  11092  11059  11101   \n",
              "4      11326  11326  11326   9895  11326      11326  11323  11283  11326   \n",
              "5      11423  11423  11423   9946  11423      11423  11420  11378  11423   \n",
              "\n",
              "       Reason   Hour  Day of Week  \n",
              "Month                              \n",
              "1       13205  13205        13205  \n",
              "2       11467  11467        11467  \n",
              "3       11101  11101        11101  \n",
              "4       11326  11326        11326  \n",
              "5       11423  11423        11423  "
            ],
            "text/html": [
              "\n",
              "  <div id=\"df-5fd19334-f893-4da0-a6da-4537b1c801f6\">\n",
              "    <div class=\"colab-df-container\">\n",
              "      <div>\n",
              "<style scoped>\n",
              "    .dataframe tbody tr th:only-of-type {\n",
              "        vertical-align: middle;\n",
              "    }\n",
              "\n",
              "    .dataframe tbody tr th {\n",
              "        vertical-align: top;\n",
              "    }\n",
              "\n",
              "    .dataframe thead th {\n",
              "        text-align: right;\n",
              "    }\n",
              "</style>\n",
              "<table border=\"1\" class=\"dataframe\">\n",
              "  <thead>\n",
              "    <tr style=\"text-align: right;\">\n",
              "      <th></th>\n",
              "      <th>lat</th>\n",
              "      <th>lng</th>\n",
              "      <th>desc</th>\n",
              "      <th>zip</th>\n",
              "      <th>title</th>\n",
              "      <th>timeStamp</th>\n",
              "      <th>twp</th>\n",
              "      <th>addr</th>\n",
              "      <th>e</th>\n",
              "      <th>Reason</th>\n",
              "      <th>Hour</th>\n",
              "      <th>Day of Week</th>\n",
              "    </tr>\n",
              "    <tr>\n",
              "      <th>Month</th>\n",
              "      <th></th>\n",
              "      <th></th>\n",
              "      <th></th>\n",
              "      <th></th>\n",
              "      <th></th>\n",
              "      <th></th>\n",
              "      <th></th>\n",
              "      <th></th>\n",
              "      <th></th>\n",
              "      <th></th>\n",
              "      <th></th>\n",
              "      <th></th>\n",
              "    </tr>\n",
              "  </thead>\n",
              "  <tbody>\n",
              "    <tr>\n",
              "      <th>1</th>\n",
              "      <td>13205</td>\n",
              "      <td>13205</td>\n",
              "      <td>13205</td>\n",
              "      <td>11527</td>\n",
              "      <td>13205</td>\n",
              "      <td>13205</td>\n",
              "      <td>13203</td>\n",
              "      <td>13096</td>\n",
              "      <td>13205</td>\n",
              "      <td>13205</td>\n",
              "      <td>13205</td>\n",
              "      <td>13205</td>\n",
              "    </tr>\n",
              "    <tr>\n",
              "      <th>2</th>\n",
              "      <td>11467</td>\n",
              "      <td>11467</td>\n",
              "      <td>11467</td>\n",
              "      <td>9930</td>\n",
              "      <td>11467</td>\n",
              "      <td>11467</td>\n",
              "      <td>11465</td>\n",
              "      <td>11396</td>\n",
              "      <td>11467</td>\n",
              "      <td>11467</td>\n",
              "      <td>11467</td>\n",
              "      <td>11467</td>\n",
              "    </tr>\n",
              "    <tr>\n",
              "      <th>3</th>\n",
              "      <td>11101</td>\n",
              "      <td>11101</td>\n",
              "      <td>11101</td>\n",
              "      <td>9755</td>\n",
              "      <td>11101</td>\n",
              "      <td>11101</td>\n",
              "      <td>11092</td>\n",
              "      <td>11059</td>\n",
              "      <td>11101</td>\n",
              "      <td>11101</td>\n",
              "      <td>11101</td>\n",
              "      <td>11101</td>\n",
              "    </tr>\n",
              "    <tr>\n",
              "      <th>4</th>\n",
              "      <td>11326</td>\n",
              "      <td>11326</td>\n",
              "      <td>11326</td>\n",
              "      <td>9895</td>\n",
              "      <td>11326</td>\n",
              "      <td>11326</td>\n",
              "      <td>11323</td>\n",
              "      <td>11283</td>\n",
              "      <td>11326</td>\n",
              "      <td>11326</td>\n",
              "      <td>11326</td>\n",
              "      <td>11326</td>\n",
              "    </tr>\n",
              "    <tr>\n",
              "      <th>5</th>\n",
              "      <td>11423</td>\n",
              "      <td>11423</td>\n",
              "      <td>11423</td>\n",
              "      <td>9946</td>\n",
              "      <td>11423</td>\n",
              "      <td>11423</td>\n",
              "      <td>11420</td>\n",
              "      <td>11378</td>\n",
              "      <td>11423</td>\n",
              "      <td>11423</td>\n",
              "      <td>11423</td>\n",
              "      <td>11423</td>\n",
              "    </tr>\n",
              "  </tbody>\n",
              "</table>\n",
              "</div>\n",
              "      <button class=\"colab-df-convert\" onclick=\"convertToInteractive('df-5fd19334-f893-4da0-a6da-4537b1c801f6')\"\n",
              "              title=\"Convert this dataframe to an interactive table.\"\n",
              "              style=\"display:none;\">\n",
              "        \n",
              "  <svg xmlns=\"http://www.w3.org/2000/svg\" height=\"24px\"viewBox=\"0 0 24 24\"\n",
              "       width=\"24px\">\n",
              "    <path d=\"M0 0h24v24H0V0z\" fill=\"none\"/>\n",
              "    <path d=\"M18.56 5.44l.94 2.06.94-2.06 2.06-.94-2.06-.94-.94-2.06-.94 2.06-2.06.94zm-11 1L8.5 8.5l.94-2.06 2.06-.94-2.06-.94L8.5 2.5l-.94 2.06-2.06.94zm10 10l.94 2.06.94-2.06 2.06-.94-2.06-.94-.94-2.06-.94 2.06-2.06.94z\"/><path d=\"M17.41 7.96l-1.37-1.37c-.4-.4-.92-.59-1.43-.59-.52 0-1.04.2-1.43.59L10.3 9.45l-7.72 7.72c-.78.78-.78 2.05 0 2.83L4 21.41c.39.39.9.59 1.41.59.51 0 1.02-.2 1.41-.59l7.78-7.78 2.81-2.81c.8-.78.8-2.07 0-2.86zM5.41 20L4 18.59l7.72-7.72 1.47 1.35L5.41 20z\"/>\n",
              "  </svg>\n",
              "      </button>\n",
              "      \n",
              "  <style>\n",
              "    .colab-df-container {\n",
              "      display:flex;\n",
              "      flex-wrap:wrap;\n",
              "      gap: 12px;\n",
              "    }\n",
              "\n",
              "    .colab-df-convert {\n",
              "      background-color: #E8F0FE;\n",
              "      border: none;\n",
              "      border-radius: 50%;\n",
              "      cursor: pointer;\n",
              "      display: none;\n",
              "      fill: #1967D2;\n",
              "      height: 32px;\n",
              "      padding: 0 0 0 0;\n",
              "      width: 32px;\n",
              "    }\n",
              "\n",
              "    .colab-df-convert:hover {\n",
              "      background-color: #E2EBFA;\n",
              "      box-shadow: 0px 1px 2px rgba(60, 64, 67, 0.3), 0px 1px 3px 1px rgba(60, 64, 67, 0.15);\n",
              "      fill: #174EA6;\n",
              "    }\n",
              "\n",
              "    [theme=dark] .colab-df-convert {\n",
              "      background-color: #3B4455;\n",
              "      fill: #D2E3FC;\n",
              "    }\n",
              "\n",
              "    [theme=dark] .colab-df-convert:hover {\n",
              "      background-color: #434B5C;\n",
              "      box-shadow: 0px 1px 3px 1px rgba(0, 0, 0, 0.15);\n",
              "      filter: drop-shadow(0px 1px 2px rgba(0, 0, 0, 0.3));\n",
              "      fill: #FFFFFF;\n",
              "    }\n",
              "  </style>\n",
              "\n",
              "      <script>\n",
              "        const buttonEl =\n",
              "          document.querySelector('#df-5fd19334-f893-4da0-a6da-4537b1c801f6 button.colab-df-convert');\n",
              "        buttonEl.style.display =\n",
              "          google.colab.kernel.accessAllowed ? 'block' : 'none';\n",
              "\n",
              "        async function convertToInteractive(key) {\n",
              "          const element = document.querySelector('#df-5fd19334-f893-4da0-a6da-4537b1c801f6');\n",
              "          const dataTable =\n",
              "            await google.colab.kernel.invokeFunction('convertToInteractive',\n",
              "                                                     [key], {});\n",
              "          if (!dataTable) return;\n",
              "\n",
              "          const docLinkHtml = 'Like what you see? Visit the ' +\n",
              "            '<a target=\"_blank\" href=https://colab.research.google.com/notebooks/data_table.ipynb>data table notebook</a>'\n",
              "            + ' to learn more about interactive tables.';\n",
              "          element.innerHTML = '';\n",
              "          dataTable['output_type'] = 'display_data';\n",
              "          await google.colab.output.renderOutput(dataTable, element);\n",
              "          const docLink = document.createElement('div');\n",
              "          docLink.innerHTML = docLinkHtml;\n",
              "          element.appendChild(docLink);\n",
              "        }\n",
              "      </script>\n",
              "    </div>\n",
              "  </div>\n",
              "  "
            ]
          },
          "metadata": {},
          "execution_count": 72
        }
      ],
      "source": [
        "byMonth = df.groupby('Month').count()\n",
        "byMonth.head()"
      ]
    },
    {
      "cell_type": "markdown",
      "metadata": {
        "id": "EzrP8HUJ5FIY"
      },
      "source": [
        "**Now create a simple plot off of the dataframe indicating the count of calls per month.**"
      ]
    },
    {
      "cell_type": "code",
      "source": [],
      "metadata": {
        "id": "BjntQp2BJWbf"
      },
      "execution_count": null,
      "outputs": []
    },
    {
      "cell_type": "code",
      "execution_count": null,
      "metadata": {
        "id": "CT7DkjeU5FIY",
        "outputId": "e37d5b44-2814-497f-bac2-f7a31444c41e",
        "colab": {
          "base_uri": "https://localhost:8080/",
          "height": 467
        }
      },
      "outputs": [
        {
          "output_type": "execute_result",
          "data": {
            "text/plain": [
              "<Axes: xlabel='Month'>"
            ]
          },
          "metadata": {},
          "execution_count": 73
        },
        {
          "output_type": "display_data",
          "data": {
            "text/plain": [
              "<Figure size 640x480 with 1 Axes>"
            ],
            "image/png": "[encoded data removed]"
          },
          "metadata": {}
        }
      ],
      "source": [
        "# Could be any column"
      ]
    },
    {
      "cell_type": "markdown",
      "metadata": {
        "id": "VJPB29zA5FIY"
      },
      "source": [
        "**Now see if you can use seaborn's lmplot() to create a linear fit on the number of calls per month. Keep in mind you may need to reset the index to a column.**"
      ]
    },
    {
      "cell_type": "code",
      "source": [],
      "metadata": {
        "id": "D5Z6Yr18WqgW"
      },
      "execution_count": null,
      "outputs": []
    },
    {
      "cell_type": "code",
      "execution_count": null,
      "metadata": {
        "id": "JEj7aKA85FIY",
        "outputId": "18a92f17-b954-4bf3-ae6c-baf615a27cce"
      },
      "outputs": [
        {
          "data": {
            "text/plain": [
              "<seaborn.axisgrid.FacetGrid at 0x11bf002b0>"
            ]
          },
          "execution_count": 45,
          "metadata": {},
          "output_type": "execute_result"
        },
        {
          "data": {
            "image/png": "[encoded data removed]",
            "text/plain": [
              "<matplotlib.figure.Figure at 0x11bf00780>"
            ]
          },
          "metadata": {},
          "output_type": "display_data"
        }
      ],
      "source": []
    },
    {
      "cell_type": "markdown",
      "metadata": {
        "id": "EuCNLprp5FIY"
      },
      "source": [
        "**Create a new column called 'Date' that contains the date from the timeStamp column. You'll need to use apply along with the .date() method.**"
      ]
    },
    {
      "cell_type": "code",
      "execution_count": null,
      "metadata": {
        "collapsed": true,
        "id": "1E7Lqxep5FIY"
      },
      "outputs": [],
      "source": [
        "df['Date']=df['timeStamp'].apply(lambda t: t.date())"
      ]
    },
    {
      "cell_type": "markdown",
      "metadata": {
        "id": "2XPmvEKg5FIY"
      },
      "source": [
        "**Now groupby this Date column with the count() aggregate and create a plot of counts of 911 calls.**"
      ]
    },
    {
      "cell_type": "code",
      "execution_count": null,
      "metadata": {
        "id": "pGB4Y_ep5FIY",
        "outputId": "05332bdc-50fe-4ccf-e139-3f2af596ffd1"
      },
      "outputs": [
        {
          "data": {
            "image/png": "[encoded data removed]",
            "text/plain": [
              "<matplotlib.figure.Figure at 0x11be729b0>"
            ]
          },
          "metadata": {},
          "output_type": "display_data"
        }
      ],
      "source": [
        "df.groupby('Date').count()['twp'].plot()\n",
        "plt.tight_layout()"
      ]
    },
    {
      "cell_type": "markdown",
      "metadata": {
        "id": "RtIn1q1F5FIY"
      },
      "source": [
        "**Now recreate this plot but create 3 separate plots with each plot representing a Reason for the 911 call**"
      ]
    },
    {
      "cell_type": "code",
      "execution_count": null,
      "metadata": {
        "id": "L9FoQLyZ5FIY",
        "outputId": "c0b79480-5379-48e5-9947-9dd3a380ba66"
      },
      "outputs": [
        {
          "data": {
            "image/png": "[encoded data removed]",
            "text/plain": [
              "<matplotlib.figure.Figure at 0x11be68748>"
            ]
          },
          "metadata": {},
          "output_type": "display_data"
        }
      ],
      "source": []
    },
    {
      "cell_type": "code",
      "source": [],
      "metadata": {
        "id": "P7cSASYSWvXh"
      },
      "execution_count": null,
      "outputs": []
    },
    {
      "cell_type": "code",
      "execution_count": null,
      "metadata": {
        "id": "5gicpUay5FIZ",
        "outputId": "f7f48a53-fa22-4ff3-9fbb-b1c9de3fd495"
      },
      "outputs": [
        {
          "data": {
            "image/png": "[encoded data removed]",
            "text/plain": [
              "<matplotlib.figure.Figure at 0x12303a358>"
            ]
          },
          "metadata": {},
          "output_type": "display_data"
        }
      ],
      "source": []
    },
    {
      "cell_type": "code",
      "execution_count": null,
      "metadata": {
        "id": "EwoHlt1R5FIZ",
        "outputId": "f2a74d76-6ca3-496c-e6ba-d5d076c0077e"
      },
      "outputs": [
        {
          "data": {
            "image/png": "[encoded data removed]",
            "text/plain": [
              "<matplotlib.figure.Figure at 0x123072668>"
            ]
          },
          "metadata": {},
          "output_type": "display_data"
        }
      ],
      "source": []
    },
    {
      "cell_type": "markdown",
      "metadata": {
        "collapsed": false,
        "id": "8yPT9a9h5FIZ"
      },
      "source": [
        "**Now let's move on to creating  heatmaps with seaborn and our data. We'll first need to restructure the dataframe so that the columns become the Hours and the Index becomes the Day of the Week. There are lots of ways to do this, but I would recommend trying to combine groupby with an [unstack](http://pandas.pydata.org/pandas-docs/stable/generated/pandas.DataFrame.unstack.html) method. Reference the solutions if you get stuck on this!**"
      ]
    },
    {
      "cell_type": "code",
      "execution_count": null,
      "metadata": {
        "id": "Bp08On7A5FIZ",
        "outputId": "b029eb45-87cd-481a-a845-bd6ac34675e6"
      },
      "outputs": [
        {
          "data": {
            "text/html": [
              "<div>\n",
              "<table border=\"1\" class=\"dataframe\">\n",
              "  <thead>\n",
              "    <tr style=\"text-align: right;\">\n",
              "      <th>Hour</th>\n",
              "      <th>0</th>\n",
              "      <th>1</th>\n",
              "      <th>2</th>\n",
              "      <th>3</th>\n",
              "      <th>4</th>\n",
              "      <th>5</th>\n",
              "      <th>6</th>\n",
              "      <th>7</th>\n",
              "      <th>8</th>\n",
              "      <th>9</th>\n",
              "      <th>...</th>\n",
              "      <th>14</th>\n",
              "      <th>15</th>\n",
              "      <th>16</th>\n",
              "      <th>17</th>\n",
              "      <th>18</th>\n",
              "      <th>19</th>\n",
              "      <th>20</th>\n",
              "      <th>21</th>\n",
              "      <th>22</th>\n",
              "      <th>23</th>\n",
              "    </tr>\n",
              "    <tr>\n",
              "      <th>Day of Week</th>\n",
              "      <th></th>\n",
              "      <th></th>\n",
              "      <th></th>\n",
              "      <th></th>\n",
              "      <th></th>\n",
              "      <th></th>\n",
              "      <th></th>\n",
              "      <th></th>\n",
              "      <th></th>\n",
              "      <th></th>\n",
              "      <th></th>\n",
              "      <th></th>\n",
              "      <th></th>\n",
              "      <th></th>\n",
              "      <th></th>\n",
              "      <th></th>\n",
              "      <th></th>\n",
              "      <th></th>\n",
              "      <th></th>\n",
              "      <th></th>\n",
              "      <th></th>\n",
              "    </tr>\n",
              "  </thead>\n",
              "  <tbody>\n",
              "    <tr>\n",
              "      <th>Fri</th>\n",
              "      <td>275</td>\n",
              "      <td>235</td>\n",
              "      <td>191</td>\n",
              "      <td>175</td>\n",
              "      <td>201</td>\n",
              "      <td>194</td>\n",
              "      <td>372</td>\n",
              "      <td>598</td>\n",
              "      <td>742</td>\n",
              "      <td>752</td>\n",
              "      <td>...</td>\n",
              "      <td>932</td>\n",
              "      <td>980</td>\n",
              "      <td>1039</td>\n",
              "      <td>980</td>\n",
              "      <td>820</td>\n",
              "      <td>696</td>\n",
              "      <td>667</td>\n",
              "      <td>559</td>\n",
              "      <td>514</td>\n",
              "      <td>474</td>\n",
              "    </tr>\n",
              "    <tr>\n",
              "      <th>Mon</th>\n",
              "      <td>282</td>\n",
              "      <td>221</td>\n",
              "      <td>201</td>\n",
              "      <td>194</td>\n",
              "      <td>204</td>\n",
              "      <td>267</td>\n",
              "      <td>397</td>\n",
              "      <td>653</td>\n",
              "      <td>819</td>\n",
              "      <td>786</td>\n",
              "      <td>...</td>\n",
              "      <td>869</td>\n",
              "      <td>913</td>\n",
              "      <td>989</td>\n",
              "      <td>997</td>\n",
              "      <td>885</td>\n",
              "      <td>746</td>\n",
              "      <td>613</td>\n",
              "      <td>497</td>\n",
              "      <td>472</td>\n",
              "      <td>325</td>\n",
              "    </tr>\n",
              "    <tr>\n",
              "      <th>Sat</th>\n",
              "      <td>375</td>\n",
              "      <td>301</td>\n",
              "      <td>263</td>\n",
              "      <td>260</td>\n",
              "      <td>224</td>\n",
              "      <td>231</td>\n",
              "      <td>257</td>\n",
              "      <td>391</td>\n",
              "      <td>459</td>\n",
              "      <td>640</td>\n",
              "      <td>...</td>\n",
              "      <td>789</td>\n",
              "      <td>796</td>\n",
              "      <td>848</td>\n",
              "      <td>757</td>\n",
              "      <td>778</td>\n",
              "      <td>696</td>\n",
              "      <td>628</td>\n",
              "      <td>572</td>\n",
              "      <td>506</td>\n",
              "      <td>467</td>\n",
              "    </tr>\n",
              "    <tr>\n",
              "      <th>Sun</th>\n",
              "      <td>383</td>\n",
              "      <td>306</td>\n",
              "      <td>286</td>\n",
              "      <td>268</td>\n",
              "      <td>242</td>\n",
              "      <td>240</td>\n",
              "      <td>300</td>\n",
              "      <td>402</td>\n",
              "      <td>483</td>\n",
              "      <td>620</td>\n",
              "      <td>...</td>\n",
              "      <td>684</td>\n",
              "      <td>691</td>\n",
              "      <td>663</td>\n",
              "      <td>714</td>\n",
              "      <td>670</td>\n",
              "      <td>655</td>\n",
              "      <td>537</td>\n",
              "      <td>461</td>\n",
              "      <td>415</td>\n",
              "      <td>330</td>\n",
              "    </tr>\n",
              "    <tr>\n",
              "      <th>Thu</th>\n",
              "      <td>278</td>\n",
              "      <td>202</td>\n",
              "      <td>233</td>\n",
              "      <td>159</td>\n",
              "      <td>182</td>\n",
              "      <td>203</td>\n",
              "      <td>362</td>\n",
              "      <td>570</td>\n",
              "      <td>777</td>\n",
              "      <td>828</td>\n",
              "      <td>...</td>\n",
              "      <td>876</td>\n",
              "      <td>969</td>\n",
              "      <td>935</td>\n",
              "      <td>1013</td>\n",
              "      <td>810</td>\n",
              "      <td>698</td>\n",
              "      <td>617</td>\n",
              "      <td>553</td>\n",
              "      <td>424</td>\n",
              "      <td>354</td>\n",
              "    </tr>\n",
              "  </tbody>\n",
              "</table>\n",
              "<p>5 rows × 24 columns</p>\n",
              "</div>"
            ],
            "text/plain": [
              "Hour          0    1    2    3    4    5    6    7    8    9  ...    14   15  \\\n",
              "Day of Week                                                   ...              \n",
              "Fri          275  235  191  175  201  194  372  598  742  752 ...   932  980   \n",
              "Mon          282  221  201  194  204  267  397  653  819  786 ...   869  913   \n",
              "Sat          375  301  263  260  224  231  257  391  459  640 ...   789  796   \n",
              "Sun          383  306  286  268  242  240  300  402  483  620 ...   684  691   \n",
              "Thu          278  202  233  159  182  203  362  570  777  828 ...   876  969   \n",
              "\n",
              "Hour           16    17   18   19   20   21   22   23  \n",
              "Day of Week                                            \n",
              "Fri          1039   980  820  696  667  559  514  474  \n",
              "Mon           989   997  885  746  613  497  472  325  \n",
              "Sat           848   757  778  696  628  572  506  467  \n",
              "Sun           663   714  670  655  537  461  415  330  \n",
              "Thu           935  1013  810  698  617  553  424  354  \n",
              "\n",
              "[5 rows x 24 columns]"
            ]
          },
          "execution_count": 51,
          "metadata": {},
          "output_type": "execute_result"
        }
      ],
      "source": [
        "dayHour = df.groupby(by=['Day of Week','Hour']).count()['Reason'].unstack()\n",
        "dayHour.head()"
      ]
    },
    {
      "cell_type": "markdown",
      "metadata": {
        "collapsed": false,
        "id": "gHtW2ibq5FIZ"
      },
      "source": [
        "**Now create a HeatMap using this new DataFrame**"
      ]
    },
    {
      "cell_type": "code",
      "source": [],
      "metadata": {
        "id": "ossj6ZqxW6eG"
      },
      "execution_count": null,
      "outputs": []
    },
    {
      "cell_type": "code",
      "execution_count": null,
      "metadata": {
        "id": "UPbTbN205FIZ",
        "outputId": "464837c9-2810-4cfe-d627-d3ed10342edd"
      },
      "outputs": [
        {
          "data": {
            "text/plain": [
              "<matplotlib.axes._subplots.AxesSubplot at 0x12305acf8>"
            ]
          },
          "execution_count": 52,
          "metadata": {},
          "output_type": "execute_result"
        },
        {
          "data": {
            "image/png": "[encoded data removed]",
            "text/plain": [
              "<matplotlib.figure.Figure at 0x11faa4208>"
            ]
          },
          "metadata": {},
          "output_type": "display_data"
        }
      ],
      "source": []
    },
    {
      "cell_type": "markdown",
      "source": [
        "## Geospatial Analysis\n",
        "\n",
        "Now let's explore the spatial distribution of 911 calls using the `lat` (latitude) and `lng` (longitude) features."
      ],
      "metadata": {
        "id": "ytQFQegEK173"
      }
    },
    {
      "cell_type": "markdown",
      "source": [
        "\n",
        "### Basic Location Plot\n",
        "\n",
        "**Plot a scatter plot of all 911 call locations using `lat` and `lng`.**\n",
        "- Hint: Use `plt.scatter()` or Seaborn’s `sns.scatterplot()`.\n"
      ],
      "metadata": {
        "id": "B_swcnCEK8WB"
      }
    },
    {
      "cell_type": "code",
      "source": [
        "df['lat'] = df['lat'].astype(float)\n",
        "df['lng'] = df['lng'].astype(float)"
      ],
      "metadata": {
        "id": "i75Y2vHVLKvV"
      },
      "execution_count": null,
      "outputs": []
    },
    {
      "cell_type": "code",
      "source": [],
      "metadata": {
        "id": "ejyZGQu9Lc1f"
      },
      "execution_count": null,
      "outputs": []
    },
    {
      "cell_type": "code",
      "source": [],
      "metadata": {
        "colab": {
          "base_uri": "https://localhost:8080/",
          "height": 748
        },
        "id": "z_Qexp2SLASo",
        "outputId": "7c665f15-582e-49dc-a0ff-065b9e5ee4f7"
      },
      "execution_count": null,
      "outputs": [
        {
          "output_type": "stream",
          "name": "stderr",
          "text": [
            "<ipython-input-9-969c30bcd9b7>:3: UserWarning: Ignoring `palette` because no `hue` variable has been assigned.\n",
            "  sns.scatterplot(x='lng',y='lat',data=df,palette='viridis')\n"
          ]
        },
        {
          "output_type": "execute_result",
          "data": {
            "text/plain": [
              "<Axes: xlabel='lng', ylabel='lat'>"
            ]
          },
          "metadata": {},
          "execution_count": 9
        },
        {
          "output_type": "display_data",
          "data": {
            "text/plain": [
              "<Figure size 1200x800 with 1 Axes>"
            ],
            "image/png": "[encoded data removed]"
          },
          "metadata": {}
        }
      ]
    },
    {
      "cell_type": "markdown",
      "source": [
        "\n",
        "**Do you notice any clusters or concentration of calls in particular areas? Describe your observations.**\n"
      ],
      "metadata": {
        "id": "0L21FqgFKiZT"
      }
    },
    {
      "cell_type": "code",
      "source": [],
      "metadata": {
        "id": "l-rn9ZtyKkPi"
      },
      "execution_count": null,
      "outputs": []
    },
    {
      "cell_type": "code",
      "source": [],
      "metadata": {
        "id": "RBZqYCVNXe2S"
      },
      "execution_count": null,
      "outputs": []
    },
    {
      "cell_type": "markdown",
      "source": [
        "## Time-based Call Analysis in a Specific Township or Zip Code"
      ],
      "metadata": {
        "id": "3WzkOb53M_Ds"
      }
    },
    {
      "cell_type": "markdown",
      "source": [
        "### Step 1: Convert `timeStamp` to datetime\n",
        "\n",
        "We first convert the `timeStamp` column to a proper datetime object so we can extract hour and day information.\n"
      ],
      "metadata": {
        "id": "Z-y_0q6iM-um"
      }
    },
    {
      "cell_type": "code",
      "source": [
        "df['timeStamp'] = pd.to_datetime(df['timeStamp'])"
      ],
      "metadata": {
        "id": "k5QtGmxXM3x4",
        "colab": {
          "base_uri": "https://localhost:8080/",
          "height": 148
        },
        "outputId": "0b5137ef-8b8a-4ee3-bd1e-75675d103a84"
      },
      "execution_count": null,
      "outputs": [
        {
          "output_type": "error",
          "ename": "TypeError",
          "evalue": "string indices must be integers, not 'str'",
          "traceback": [
            "\u001b[0;31m---------------------------------------------------------------------------\u001b[0m",
            "\u001b[0;31mTypeError\u001b[0m                                 Traceback (most recent call last)",
            "\u001b[0;32m<ipython-input-28-f7bbef54acb9>\u001b[0m in \u001b[0;36m<cell line: 0>\u001b[0;34m()\u001b[0m\n\u001b[0;32m----> 1\u001b[0;31m \u001b[0mdf\u001b[0m\u001b[0;34m[\u001b[0m\u001b[0;34m'timeStamp'\u001b[0m\u001b[0;34m]\u001b[0m \u001b[0;34m=\u001b[0m \u001b[0mpd\u001b[0m\u001b[0;34m.\u001b[0m\u001b[0mto_datetime\u001b[0m\u001b[0;34m(\u001b[0m\u001b[0mdf\u001b[0m\u001b[0;34m[\u001b[0m\u001b[0;34m'timeStamp'\u001b[0m\u001b[0;34m]\u001b[0m\u001b[0;34m)\u001b[0m\u001b[0;34m\u001b[0m\u001b[0;34m\u001b[0m\u001b[0m\n\u001b[0m",
            "\u001b[0;31mTypeError\u001b[0m: string indices must be integers, not 'str'"
          ]
        }
      ]
    },
    {
      "cell_type": "markdown",
      "source": [
        "### Step 2: Extract hour and day of the week\n",
        "\n",
        "Now we extract the hour of the day and the name of the weekday from each call's timestamp.\n"
      ],
      "metadata": {
        "id": "HToZ-SXdNPxm"
      }
    },
    {
      "cell_type": "code",
      "source": [
        "df['hour'] = df['timeStamp'].dt.hour\n",
        "df['day_of_week'] = df['timeStamp'].dt.day_name()"
      ],
      "metadata": {
        "id": "YN4FTCCLNR4e"
      },
      "execution_count": null,
      "outputs": []
    },
    {
      "cell_type": "markdown",
      "source": [
        "### Step 3: Filter for a specific township\n",
        "\n",
        "Let’s choose one township, for example `'NORRISTOWN'`, and filter the data to only include calls from that area.\n"
      ],
      "metadata": {
        "id": "988dlBP5NWGk"
      }
    },
    {
      "cell_type": "code",
      "source": [
        "twp_filter = 'NORRISTOWN'\n",
        "df_twp = df[df['twp'] == twp_filter]\n"
      ],
      "metadata": {
        "id": "ZL-wG_lKNZ-P"
      },
      "execution_count": null,
      "outputs": []
    },
    {
      "cell_type": "markdown",
      "source": [
        "### Step 4: Create a pivot table of call counts\n",
        "We group the data by day of the week and hour, then convert it into a table format suitable for heatmapping.\n"
      ],
      "metadata": {
        "id": "9wIIQaaPNgKa"
      }
    },
    {
      "cell_type": "code",
      "source": [
        "heatmap_data = df_twp.groupby(['day_of_week', 'hour']).size().unstack().reindex(\n",
        "    ['Monday', 'Tuesday', 'Wednesday', 'Thursday', 'Friday', 'Saturday', 'Sunday']\n",
        ")"
      ],
      "metadata": {
        "id": "U3XjL0E9Nft7"
      },
      "execution_count": null,
      "outputs": []
    },
    {
      "cell_type": "markdown",
      "source": [
        "### Step 5: Plot a heatmap\n",
        "\n",
        "Finally, visualize the call frequency by hour and day using a heatmap.\n"
      ],
      "metadata": {
        "id": "gPdbKkdtNpj4"
      }
    },
    {
      "cell_type": "code",
      "source": [
        "# your code goes here\n",
        "#\n",
        "#"
      ],
      "metadata": {
        "id": "exQb4A8mNyss"
      },
      "execution_count": null,
      "outputs": []
    },
    {
      "cell_type": "markdown",
      "source": [
        "![image.png](data:image/png;base64,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)"
      ],
      "metadata": {
        "id": "8wxKCaa7OB36"
      }
    }
  ],
  "metadata": {
    "kernelspec": {
      "display_name": "Python 3",
      "language": "python",
      "name": "python3"
    },
    "language_info": {
      "codemirror_mode": {
        "name": "ipython",
        "version": 3
      },
      "file_extension": ".py",
      "mimetype": "text/x-python",
      "name": "python",
      "nbconvert_exporter": "python",
      "pygments_lexer": "ipython3",
      "version": "3.5.1"
    },
    "colab": {
      "provenance": [],
      "toc_visible": true,
      "include_colab_link": true
    }
  },
  "nbformat": 4,
  "nbformat_minor": 0
}